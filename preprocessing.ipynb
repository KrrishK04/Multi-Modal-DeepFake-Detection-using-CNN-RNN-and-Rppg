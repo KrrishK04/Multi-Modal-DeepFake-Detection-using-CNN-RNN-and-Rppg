{
 "cells": [
  {
   "cell_type": "code",
   "execution_count": 2,
   "id": "8eb1c742-0996-4d0d-b519-485041cd93f2",
   "metadata": {},
   "outputs": [
    {
     "name": "stdout",
     "output_type": "stream",
     "text": [
      "True\n",
      "NVIDIA GeForce RTX 3060 Laptop GPU\n"
     ]
    }
   ],
   "source": [
    "import torch\n",
    "print(torch.cuda.is_available())\n",
    "print(torch.cuda.get_device_name(0))"
   ]
  },
  {
   "cell_type": "code",
   "execution_count": 2,
   "id": "b830b6cf-86b3-48ec-b7a2-8636733622d5",
   "metadata": {},
   "outputs": [],
   "source": [
    "import os\n",
    "import glob\n",
    "import cv2\n",
    "import numpy as np\n",
    "from tqdm import tqdm\n",
    "from facenet_pytorch import MTCNN\n",
    "import torch\n",
    "from PIL import Image\n",
    "\n",
    "def create_face_video(input_video_path, output_video_path, max_frames=150):\n",
    "    device = torch.device('cuda' if torch.cuda.is_available() else 'cpu')\n",
    "    print(f\"Using device: {device}\")\n",
    "\n",
    "    # Initialize MTCNN face detector\n",
    "    mtcnn = MTCNN(keep_all=True, device=device)\n",
    "\n",
    "    vid_obj = cv2.VideoCapture(input_video_path)\n",
    "    frame_count = int(vid_obj.get(cv2.CAP_PROP_FRAME_COUNT))\n",
    "    fps = vid_obj.get(cv2.CAP_PROP_FPS) or 30  # Default to 30 if fps can't be read\n",
    "    print(f\"Processing video: {input_video_path}\")\n",
    "    print(f\"Total frames in video: {frame_count}, FPS: {fps}\")\n",
    "\n",
    "    # Prepare video writer\n",
    "    height, width = 112, 112\n",
    "    fourcc = cv2.VideoWriter_fourcc(*'mp4v')\n",
    "    out = cv2.VideoWriter(output_video_path, fourcc, fps, (width, height))\n",
    "\n",
    "    frame_idx = 0\n",
    "    success = True\n",
    "    # pbar = tqdm(total=min(frame_count, max_frames), desc=\"Processing frames\")\n",
    "    while success and frame_idx < max_frames:\n",
    "        success, frame = vid_obj.read()\n",
    "        if not success:\n",
    "            print(f\"Failed to read frame {frame_idx}\")\n",
    "            break\n",
    "\n",
    "        try:\n",
    "            rgb_frame = cv2.cvtColor(frame, cv2.COLOR_BGR2RGB)\n",
    "            img = Image.fromarray(rgb_frame)\n",
    "\n",
    "            # Detect faces\n",
    "            boxes, _ = mtcnn.detect(img)\n",
    "\n",
    "            if boxes is None:\n",
    "                print(f\"No faces detected in frame {frame_idx}\")\n",
    "                frame_idx += 1\n",
    "                # pbar.update(1)\n",
    "                continue\n",
    "\n",
    "            # Loop through detected faces\n",
    "            for box in boxes:\n",
    "                left, top, right, bottom = [int(b) for b in box]\n",
    "                # Ensure coordinates are within image bounds\n",
    "                top = max(0, top)\n",
    "                left = max(0, left)\n",
    "                bottom = min(frame.shape[0], bottom)\n",
    "                right = min(frame.shape[1], right)\n",
    "\n",
    "                face_image = frame[top:bottom, left:right]\n",
    "                if face_image.size == 0:\n",
    "                    print(f\"Empty face detected in frame {frame_idx}\")\n",
    "                    continue\n",
    "\n",
    "                # Resize the face to the desired size\n",
    "                face_resized = cv2.resize(face_image, (width, height))\n",
    "                out.write(face_resized)\n",
    "\n",
    "        except Exception as e:\n",
    "            print(f\"Error processing frame {frame_idx}: {e}\")\n",
    "\n",
    "        frame_idx += 1\n",
    "        # pbar.update(1)\n",
    "\n",
    "    # pbar.close()\n",
    "    vid_obj.release()\n",
    "    out.release()"
   ]
  },
  {
   "cell_type": "code",
   "execution_count": 3,
   "id": "515eb426-5be6-4818-8664-06dfa13ed58b",
   "metadata": {},
   "outputs": [],
   "source": [
    "# Main function to process an entire dataset\n",
    "def preprocess_dataset(video_dir, output_dir, max_frames=150):\n",
    "    os.makedirs(output_dir, exist_ok=True)\n",
    "    video_files = glob.glob(os.path.join(video_dir, '*.mp4'))\n",
    "    i = 0\n",
    "    n = len(video_files)\n",
    "    print(f\"Found {n} videos to process.\")\n",
    "    for video_path in tqdm(video_files, desc=\"Processing videos\"):\n",
    "        video_name = os.path.basename(video_path)\n",
    "        output_video_path = os.path.join(output_dir, video_name)\n",
    "        i+=1\n",
    "        print(f\"{i}/{n}\")\n",
    "        # Skip if output video already exists\n",
    "        if os.path.exists(output_video_path):\n",
    "            print(f\"File already exists: {output_video_path}\")\n",
    "            continue\n",
    "       \n",
    "        # Process and save face-cropped video\n",
    "        create_face_video(video_path, output_video_path, max_frames=max_frames)\n",
    "        "
   ]
  },
  {
   "cell_type": "code",
   "execution_count": 5,
   "id": "beed6e4f-e5ab-4cdf-8477-71599c7cba95",
   "metadata": {},
   "outputs": [
    {
     "name": "stdout",
     "output_type": "stream",
     "text": [
      "Found 1334 videos to process.\n"
     ]
    },
    {
     "name": "stderr",
     "output_type": "stream",
     "text": [
      "Processing videos:   0%|                                                                      | 0/1334 [00:00<?, ?it/s]"
     ]
    },
    {
     "name": "stdout",
     "output_type": "stream",
     "text": [
      "1/1334\n",
      "File already exists: C:\\Users\\KK\\Desktop\\dfd\\processed\\aaqaifqrwn.mp4\n",
      "2/1334\n",
      "File already exists: C:\\Users\\KK\\Desktop\\dfd\\processed\\aayrffkzxn.mp4\n",
      "3/1334\n",
      "File already exists: C:\\Users\\KK\\Desktop\\dfd\\processed\\abhggqdift.mp4\n",
      "4/1334\n",
      "File already exists: C:\\Users\\KK\\Desktop\\dfd\\processed\\acagallncj.mp4\n",
      "5/1334\n",
      "File already exists: C:\\Users\\KK\\Desktop\\dfd\\processed\\acdkfksyev.mp4\n",
      "6/1334\n",
      "File already exists: C:\\Users\\KK\\Desktop\\dfd\\processed\\achdeirhym.mp4\n",
      "7/1334\n",
      "File already exists: C:\\Users\\KK\\Desktop\\dfd\\processed\\acryukkddn.mp4\n",
      "8/1334\n",
      "File already exists: C:\\Users\\KK\\Desktop\\dfd\\processed\\adftmlvzfs.mp4\n",
      "9/1334\n",
      "File already exists: C:\\Users\\KK\\Desktop\\dfd\\processed\\aegvtnwqoe.mp4\n",
      "10/1334\n",
      "File already exists: C:\\Users\\KK\\Desktop\\dfd\\processed\\aejvkfbtxs.mp4\n",
      "11/1334\n",
      "File already exists: C:\\Users\\KK\\Desktop\\dfd\\processed\\aeqpxjlbwu.mp4\n",
      "12/1334\n",
      "File already exists: C:\\Users\\KK\\Desktop\\dfd\\processed\\ahhdprhoww.mp4\n",
      "13/1334\n",
      "File already exists: C:\\Users\\KK\\Desktop\\dfd\\processed\\aimzesksew.mp4\n",
      "14/1334\n",
      "File already exists: C:\\Users\\KK\\Desktop\\dfd\\processed\\aiuimrebtg.mp4\n",
      "15/1334\n",
      "File already exists: C:\\Users\\KK\\Desktop\\dfd\\processed\\ajeegjgyzk.mp4\n",
      "16/1334\n",
      "File already exists: C:\\Users\\KK\\Desktop\\dfd\\processed\\akpuczgfpk.mp4\n",
      "17/1334\n",
      "File already exists: C:\\Users\\KK\\Desktop\\dfd\\processed\\alhqaurncj.mp4\n",
      "18/1334\n",
      "File already exists: C:\\Users\\KK\\Desktop\\dfd\\processed\\alidfjtwvg.mp4\n",
      "19/1334\n",
      "File already exists: C:\\Users\\KK\\Desktop\\dfd\\processed\\alnkzqihau.mp4\n",
      "20/1334\n",
      "File already exists: C:\\Users\\KK\\Desktop\\dfd\\processed\\alpkghdgrv.mp4\n",
      "21/1334\n",
      "File already exists: C:\\Users\\KK\\Desktop\\dfd\\processed\\ambabjrwbt.mp4\n",
      "22/1334\n",
      "File already exists: C:\\Users\\KK\\Desktop\\dfd\\processed\\amluexcfvi.mp4\n",
      "23/1334\n",
      "File already exists: C:\\Users\\KK\\Desktop\\dfd\\processed\\ansbtntiqu.mp4\n",
      "24/1334\n",
      "File already exists: C:\\Users\\KK\\Desktop\\dfd\\processed\\aoydktojny.mp4\n",
      "25/1334\n",
      "File already exists: C:\\Users\\KK\\Desktop\\dfd\\processed\\apedduehoy.mp4\n",
      "26/1334\n",
      "File already exists: C:\\Users\\KK\\Desktop\\dfd\\processed\\apmzxocjio.mp4\n",
      "27/1334\n",
      "File already exists: C:\\Users\\KK\\Desktop\\dfd\\processed\\apvzjkvnwn.mp4\n",
      "28/1334\n",
      "File already exists: C:\\Users\\KK\\Desktop\\dfd\\processed\\apzckowxpy.mp4\n",
      "29/1334\n",
      "File already exists: C:\\Users\\KK\\Desktop\\dfd\\processed\\arwyjgnvlp.mp4\n",
      "30/1334\n",
      "File already exists: C:\\Users\\KK\\Desktop\\dfd\\processed\\asdzplbhnm.mp4\n",
      "31/1334\n",
      "File already exists: C:\\Users\\KK\\Desktop\\dfd\\processed\\asxhhsants.mp4\n",
      "32/1334\n",
      "File already exists: C:\\Users\\KK\\Desktop\\dfd\\processed\\atpngxfnhr.mp4\n",
      "33/1334\n",
      "File already exists: C:\\Users\\KK\\Desktop\\dfd\\processed\\atrteuctxr.mp4\n",
      "34/1334\n",
      "File already exists: C:\\Users\\KK\\Desktop\\dfd\\processed\\atzwrsivnb.mp4\n",
      "35/1334\n",
      "File already exists: C:\\Users\\KK\\Desktop\\dfd\\processed\\augowetyej.mp4\n",
      "36/1334\n",
      "File already exists: C:\\Users\\KK\\Desktop\\dfd\\processed\\augwyjvlqa.mp4\n",
      "37/1334\n",
      "File already exists: C:\\Users\\KK\\Desktop\\dfd\\processed\\auquqlmsts.mp4\n",
      "38/1334\n",
      "File already exists: C:\\Users\\KK\\Desktop\\dfd\\processed\\avoqheikrk.mp4\n",
      "39/1334\n",
      "File already exists: C:\\Users\\KK\\Desktop\\dfd\\processed\\avznxuwvbx.mp4\n",
      "40/1334\n",
      "File already exists: C:\\Users\\KK\\Desktop\\dfd\\processed\\awfjdqqygu.mp4\n",
      "41/1334\n",
      "File already exists: C:\\Users\\KK\\Desktop\\dfd\\processed\\awigxxbbpb.mp4\n",
      "42/1334\n",
      "File already exists: C:\\Users\\KK\\Desktop\\dfd\\processed\\awnfpubqmo.mp4\n",
      "43/1334\n",
      "File already exists: C:\\Users\\KK\\Desktop\\dfd\\processed\\axbvoepbdc.mp4\n",
      "44/1334\n",
      "File already exists: C:\\Users\\KK\\Desktop\\dfd\\processed\\axfhbpkdlc.mp4\n",
      "45/1334\n",
      "File already exists: C:\\Users\\KK\\Desktop\\dfd\\processed\\axzjovaktp.mp4\n",
      "46/1334\n",
      "File already exists: C:\\Users\\KK\\Desktop\\dfd\\processed\\aylqthgnhe.mp4\n",
      "47/1334\n",
      "File already exists: C:\\Users\\KK\\Desktop\\dfd\\processed\\aymlynzeni.mp4\n",
      "48/1334\n",
      "File already exists: C:\\Users\\KK\\Desktop\\dfd\\processed\\baiyzipjbr.mp4\n",
      "49/1334\n",
      "File already exists: C:\\Users\\KK\\Desktop\\dfd\\processed\\bbnesewcot.mp4\n",
      "50/1334\n",
      "File already exists: C:\\Users\\KK\\Desktop\\dfd\\processed\\bbxqtnztyy.mp4\n",
      "51/1334\n",
      "File already exists: C:\\Users\\KK\\Desktop\\dfd\\processed\\bdnoxibdvz.mp4\n",
      "52/1334\n",
      "File already exists: C:\\Users\\KK\\Desktop\\dfd\\processed\\bemkbovwsz.mp4\n",
      "53/1334\n",
      "File already exists: C:\\Users\\KK\\Desktop\\dfd\\processed\\bfktkdugru.mp4\n",
      "54/1334\n",
      "File already exists: C:\\Users\\KK\\Desktop\\dfd\\processed\\bhvnfaylpk.mp4\n",
      "55/1334\n",
      "File already exists: C:\\Users\\KK\\Desktop\\dfd\\processed\\biatmogsbv.mp4\n",
      "56/1334\n",
      "File already exists: C:\\Users\\KK\\Desktop\\dfd\\processed\\bihlajjbnl.mp4\n",
      "57/1334\n",
      "File already exists: C:\\Users\\KK\\Desktop\\dfd\\processed\\birmbtezni.mp4\n",
      "58/1334\n",
      "File already exists: C:\\Users\\KK\\Desktop\\dfd\\processed\\bjxasekfcx.mp4\n",
      "59/1334\n",
      "File already exists: C:\\Users\\KK\\Desktop\\dfd\\processed\\bkcztuqxbp.mp4\n",
      "60/1334\n",
      "File already exists: C:\\Users\\KK\\Desktop\\dfd\\processed\\bldeizqycp.mp4\n",
      "61/1334\n",
      "File already exists: C:\\Users\\KK\\Desktop\\dfd\\processed\\blwvnvsbmz.mp4\n",
      "62/1334\n",
      "File already exists: C:\\Users\\KK\\Desktop\\dfd\\processed\\bmfkkzheii.mp4\n",
      "63/1334\n",
      "File already exists: C:\\Users\\KK\\Desktop\\dfd\\processed\\bmhghysucl.mp4\n",
      "64/1334\n",
      "File already exists: C:\\Users\\KK\\Desktop\\dfd\\processed\\bnitzihcqs.mp4\n",
      "65/1334\n",
      "File already exists: C:\\Users\\KK\\Desktop\\dfd\\processed\\bobihhgccf.mp4\n",
      "66/1334\n",
      "File already exists: C:\\Users\\KK\\Desktop\\dfd\\processed\\bpguesjrfa.mp4\n",
      "67/1334\n",
      "File already exists: C:\\Users\\KK\\Desktop\\dfd\\processed\\bqamrsyvnf.mp4\n",
      "68/1334\n",
      "File already exists: C:\\Users\\KK\\Desktop\\dfd\\processed\\bqefygjsnx.mp4\n",
      "69/1334\n",
      "File already exists: C:\\Users\\KK\\Desktop\\dfd\\processed\\bqvhlqlrba.mp4\n",
      "70/1334\n",
      "File already exists: C:\\Users\\KK\\Desktop\\dfd\\processed\\brihlutndc.mp4\n",
      "71/1334\n",
      "File already exists: C:\\Users\\KK\\Desktop\\dfd\\processed\\brpkkgdggv.mp4\n",
      "72/1334\n",
      "File already exists: C:\\Users\\KK\\Desktop\\dfd\\processed\\brtujopkby.mp4\n",
      "73/1334\n",
      "File already exists: C:\\Users\\KK\\Desktop\\dfd\\processed\\btizoxwqwp.mp4\n",
      "74/1334\n",
      "File already exists: C:\\Users\\KK\\Desktop\\dfd\\processed\\btyxvpjgcc.mp4\n",
      "75/1334\n",
      "File already exists: C:\\Users\\KK\\Desktop\\dfd\\processed\\buzdtxdyid.mp4\n",
      "76/1334\n",
      "File already exists: C:\\Users\\KK\\Desktop\\dfd\\processed\\bwjqcwhpfr.mp4\n",
      "77/1334\n",
      "File already exists: C:\\Users\\KK\\Desktop\\dfd\\processed\\bwlxucgxro.mp4\n",
      "78/1334\n",
      "File already exists: C:\\Users\\KK\\Desktop\\dfd\\processed\\bwsytelwkm.mp4\n",
      "79/1334\n",
      "File already exists: C:\\Users\\KK\\Desktop\\dfd\\processed\\bxdhnnffvw.mp4\n",
      "80/1334\n",
      "File already exists: C:\\Users\\KK\\Desktop\\dfd\\processed\\bxgbpdjgjv.mp4\n",
      "81/1334\n",
      "File already exists: C:\\Users\\KK\\Desktop\\dfd\\processed\\bxooifrfzo.mp4\n",
      "82/1334\n",
      "File already exists: C:\\Users\\KK\\Desktop\\dfd\\processed\\bykgnyykta.mp4\n",
      "83/1334\n",
      "File already exists: C:\\Users\\KK\\Desktop\\dfd\\processed\\bytfrsxnwi.mp4\n",
      "84/1334\n",
      "File already exists: C:\\Users\\KK\\Desktop\\dfd\\processed\\bztdemptfg.mp4\n",
      "85/1334\n",
      "File already exists: C:\\Users\\KK\\Desktop\\dfd\\processed\\bzvzpwrabw.mp4\n",
      "86/1334\n",
      "File already exists: C:\\Users\\KK\\Desktop\\dfd\\processed\\bzxauvpscl.mp4\n",
      "87/1334\n",
      "File already exists: C:\\Users\\KK\\Desktop\\dfd\\processed\\bzyawroeif.mp4\n",
      "88/1334\n",
      "File already exists: C:\\Users\\KK\\Desktop\\dfd\\processed\\calhtslbzf.mp4\n",
      "89/1334\n",
      "File already exists: C:\\Users\\KK\\Desktop\\dfd\\processed\\cbybbxuusl.mp4\n",
      "90/1334\n",
      "File already exists: C:\\Users\\KK\\Desktop\\dfd\\processed\\cbzxykepbl.mp4\n",
      "91/1334\n",
      "File already exists: C:\\Users\\KK\\Desktop\\dfd\\processed\\ccjiwxnihq.mp4\n",
      "92/1334\n",
      "File already exists: C:\\Users\\KK\\Desktop\\dfd\\processed\\ccrrlidqnp.mp4\n",
      "93/1334\n",
      "File already exists: C:\\Users\\KK\\Desktop\\dfd\\processed\\cdcdoqbdmi.mp4\n",
      "94/1334\n",
      "File already exists: C:\\Users\\KK\\Desktop\\dfd\\processed\\cdyotmvujc.mp4\n",
      "95/1334\n",
      "File already exists: C:\\Users\\KK\\Desktop\\dfd\\processed\\cefpmcqwex.mp4\n",
      "96/1334\n",
      "File already exists: C:\\Users\\KK\\Desktop\\dfd\\processed\\cemftmsxis.mp4\n",
      "97/1334\n",
      "File already exists: C:\\Users\\KK\\Desktop\\dfd\\processed\\cerwqpmouj.mp4\n",
      "98/1334\n",
      "File already exists: C:\\Users\\KK\\Desktop\\dfd\\processed\\cfhejdmemu.mp4\n",
      "99/1334\n",
      "File already exists: C:\\Users\\KK\\Desktop\\dfd\\processed\\cfyayetydv.mp4\n",
      "100/1334\n",
      "File already exists: C:\\Users\\KK\\Desktop\\dfd\\processed\\chqqxfuuzi.mp4\n",
      "101/1334\n",
      "File already exists: C:\\Users\\KK\\Desktop\\dfd\\processed\\chzqptmqxv.mp4\n",
      "102/1334\n",
      "File already exists: C:\\Users\\KK\\Desktop\\dfd\\processed\\citnmpozjl.mp4\n",
      "103/1334\n",
      "File already exists: C:\\Users\\KK\\Desktop\\dfd\\processed\\cjhwsuzeuz.mp4\n",
      "104/1334\n",
      "File already exists: C:\\Users\\KK\\Desktop\\dfd\\processed\\cjndhcclqi.mp4\n",
      "105/1334\n",
      "File already exists: C:\\Users\\KK\\Desktop\\dfd\\processed\\cjxbcxpbqi.mp4\n",
      "106/1334\n",
      "File already exists: C:\\Users\\KK\\Desktop\\dfd\\processed\\ckfqqhpbph.mp4\n",
      "107/1334\n",
      "File already exists: C:\\Users\\KK\\Desktop\\dfd\\processed\\clpvgmopjx.mp4\n",
      "108/1334\n",
      "File already exists: C:\\Users\\KK\\Desktop\\dfd\\processed\\clzkcmoyhb.mp4\n",
      "109/1334\n",
      "File already exists: C:\\Users\\KK\\Desktop\\dfd\\processed\\cmoizyxqcc.mp4\n",
      "110/1334\n",
      "File already exists: C:\\Users\\KK\\Desktop\\dfd\\processed\\cmvymfbmlb.mp4\n",
      "111/1334\n",
      "File already exists: C:\\Users\\KK\\Desktop\\dfd\\processed\\cogcvbbjcm.mp4\n",
      "112/1334\n",
      "File already exists: C:\\Users\\KK\\Desktop\\dfd\\processed\\coujjnypba.mp4\n",
      "113/1334\n",
      "File already exists: C:\\Users\\KK\\Desktop\\dfd\\processed\\cqbhgsmffd.mp4\n",
      "114/1334\n",
      "File already exists: C:\\Users\\KK\\Desktop\\dfd\\processed\\cqhwesrciw.mp4\n",
      "115/1334\n",
      "File already exists: C:\\Users\\KK\\Desktop\\dfd\\processed\\cqomufbzpp.mp4\n",
      "116/1334\n",
      "File already exists: C:\\Users\\KK\\Desktop\\dfd\\processed\\cqpdqjzgcs.mp4\n",
      "117/1334\n",
      "File already exists: C:\\Users\\KK\\Desktop\\dfd\\processed\\cqroxivqio.mp4\n",
      "118/1334\n",
      "File already exists: C:\\Users\\KK\\Desktop\\dfd\\processed\\cqtxrekabh.mp4\n",
      "119/1334\n",
      "File already exists: C:\\Users\\KK\\Desktop\\dfd\\processed\\crflaflooj.mp4\n",
      "120/1334\n",
      "File already exists: C:\\Users\\KK\\Desktop\\dfd\\processed\\crwzrpozbv.mp4\n",
      "121/1334\n",
      "File already exists: C:\\Users\\KK\\Desktop\\dfd\\processed\\csofafwrts.mp4\n",
      "122/1334\n",
      "File already exists: C:\\Users\\KK\\Desktop\\dfd\\processed\\csqojsqtgn.mp4\n",
      "123/1334\n",
      "File already exists: C:\\Users\\KK\\Desktop\\dfd\\processed\\cthdrbnhpo.mp4\n",
      "124/1334\n",
      "File already exists: C:\\Users\\KK\\Desktop\\dfd\\processed\\ctooqkhtgp.mp4\n",
      "125/1334\n",
      "File already exists: C:\\Users\\KK\\Desktop\\dfd\\processed\\ctzgudcdyu.mp4\n",
      "126/1334\n",
      "File already exists: C:\\Users\\KK\\Desktop\\dfd\\processed\\culaevxduf.mp4\n",
      "127/1334\n",
      "File already exists: C:\\Users\\KK\\Desktop\\dfd\\processed\\cvboojbsxa.mp4\n",
      "128/1334\n",
      "File already exists: C:\\Users\\KK\\Desktop\\dfd\\processed\\cvdrzlkwdf.mp4\n",
      "129/1334\n",
      "File already exists: C:\\Users\\KK\\Desktop\\dfd\\processed\\cvmcvcqpgn.mp4\n",
      "130/1334\n",
      "File already exists: C:\\Users\\KK\\Desktop\\dfd\\processed\\cvqyddpcxj.mp4\n",
      "131/1334\n",
      "File already exists: C:\\Users\\KK\\Desktop\\dfd\\processed\\cvycgtwfsi.mp4\n",
      "132/1334\n",
      "File already exists: C:\\Users\\KK\\Desktop\\dfd\\processed\\cwqycdjevy.mp4\n",
      "133/1334\n",
      "File already exists: C:\\Users\\KK\\Desktop\\dfd\\processed\\cwvpcctjgs.mp4\n",
      "134/1334\n",
      "File already exists: C:\\Users\\KK\\Desktop\\dfd\\processed\\cxgieqcozm.mp4\n",
      "135/1334\n",
      "File already exists: C:\\Users\\KK\\Desktop\\dfd\\processed\\cxgsjamupo.mp4\n",
      "136/1334\n",
      "File already exists: C:\\Users\\KK\\Desktop\\dfd\\processed\\cxjtjcinqt.mp4\n",
      "137/1334\n",
      "File already exists: C:\\Users\\KK\\Desktop\\dfd\\processed\\cybnhobdyh.mp4\n",
      "138/1334\n",
      "File already exists: C:\\Users\\KK\\Desktop\\dfd\\processed\\cygixvotoj.mp4\n",
      "139/1334\n",
      "File already exists: C:\\Users\\KK\\Desktop\\dfd\\processed\\cyhxxnezbo.mp4\n",
      "140/1334\n",
      "File already exists: C:\\Users\\KK\\Desktop\\dfd\\processed\\cyifdylbln.mp4\n",
      "141/1334\n",
      "File already exists: C:\\Users\\KK\\Desktop\\dfd\\processed\\cythdgxpdi.mp4\n",
      "142/1334\n",
      "File already exists: C:\\Users\\KK\\Desktop\\dfd\\processed\\dabysiasvf.mp4\n",
      "143/1334\n",
      "File already exists: C:\\Users\\KK\\Desktop\\dfd\\processed\\dahvuijxob.mp4\n",
      "144/1334\n",
      "File already exists: C:\\Users\\KK\\Desktop\\dfd\\processed\\dbgztzhbhb.mp4\n",
      "145/1334\n",
      "File already exists: C:\\Users\\KK\\Desktop\\dfd\\processed\\dbhthsgych.mp4\n",
      "146/1334\n",
      "File already exists: C:\\Users\\KK\\Desktop\\dfd\\processed\\dcwnkxrsgg.mp4\n",
      "147/1334\n",
      "File already exists: C:\\Users\\KK\\Desktop\\dfd\\processed\\ddqtkrkmjn.mp4\n",
      "148/1334\n",
      "File already exists: C:\\Users\\KK\\Desktop\\dfd\\processed\\ddtbarpcgo.mp4\n",
      "149/1334\n",
      "File already exists: C:\\Users\\KK\\Desktop\\dfd\\processed\\demuhxssgl.mp4\n",
      "150/1334\n",
      "File already exists: C:\\Users\\KK\\Desktop\\dfd\\processed\\dfcoyuhhex.mp4\n",
      "151/1334\n",
      "File already exists: C:\\Users\\KK\\Desktop\\dfd\\processed\\dflpzzixje.mp4\n",
      "152/1334\n",
      "File already exists: C:\\Users\\KK\\Desktop\\dfd\\processed\\dghhdvdzrb.mp4\n",
      "153/1334\n",
      "File already exists: C:\\Users\\KK\\Desktop\\dfd\\processed\\dgyeaodnzw.mp4\n",
      "154/1334\n",
      "File already exists: C:\\Users\\KK\\Desktop\\dfd\\processed\\dhjnjkzuhq.mp4\n",
      "155/1334\n",
      "File already exists: C:\\Users\\KK\\Desktop\\dfd\\processed\\dhyybsrvwc.mp4\n",
      "156/1334\n",
      "File already exists: C:\\Users\\KK\\Desktop\\dfd\\processed\\dibwmyrpql.mp4\n",
      "157/1334\n",
      "File already exists: C:\\Users\\KK\\Desktop\\dfd\\processed\\didzujjhtg.mp4\n",
      "158/1334\n",
      "File already exists: C:\\Users\\KK\\Desktop\\dfd\\processed\\dilfhyevdv.mp4\n",
      "159/1334\n",
      "File already exists: C:\\Users\\KK\\Desktop\\dfd\\processed\\djgbahezbh.mp4\n",
      "160/1334\n",
      "File already exists: C:\\Users\\KK\\Desktop\\dfd\\processed\\dkenctaoes.mp4\n",
      "161/1334\n",
      "File already exists: C:\\Users\\KK\\Desktop\\dfd\\processed\\dkojxwpvza.mp4\n",
      "162/1334\n",
      "File already exists: C:\\Users\\KK\\Desktop\\dfd\\processed\\dlfuxshert.mp4\n",
      "163/1334\n",
      "File already exists: C:\\Users\\KK\\Desktop\\dfd\\processed\\dlpaibcwsy.mp4\n",
      "164/1334\n",
      "File already exists: C:\\Users\\KK\\Desktop\\dfd\\processed\\dlrcprykef.mp4\n",
      "165/1334\n",
      "File already exists: C:\\Users\\KK\\Desktop\\dfd\\processed\\dlybulufda.mp4\n",
      "166/1334\n",
      "File already exists: C:\\Users\\KK\\Desktop\\dfd\\processed\\dmirtsrziw.mp4\n",
      "167/1334\n",
      "File already exists: C:\\Users\\KK\\Desktop\\dfd\\processed\\doiljuhamq.mp4\n",
      "168/1334\n",
      "File already exists: C:\\Users\\KK\\Desktop\\dfd\\processed\\dolynaukae.mp4\n",
      "169/1334\n",
      "File already exists: C:\\Users\\KK\\Desktop\\dfd\\processed\\doniqevxeg.mp4\n",
      "170/1334\n",
      "File already exists: C:\\Users\\KK\\Desktop\\dfd\\processed\\dootttqtvv.mp4\n",
      "171/1334\n",
      "File already exists: C:\\Users\\KK\\Desktop\\dfd\\processed\\dpevefkefv.mp4\n",
      "172/1334\n",
      "File already exists: C:\\Users\\KK\\Desktop\\dfd\\processed\\dqlmffnywx.mp4\n",
      "173/1334\n",
      "File already exists: C:\\Users\\KK\\Desktop\\dfd\\processed\\drjwafunon.mp4\n",
      "174/1334\n",
      "File already exists: C:\\Users\\KK\\Desktop\\dfd\\processed\\drlkcilgmc.mp4\n",
      "175/1334\n",
      "File already exists: C:\\Users\\KK\\Desktop\\dfd\\processed\\drmtvuyoam.mp4\n",
      "176/1334\n",
      "File already exists: C:\\Users\\KK\\Desktop\\dfd\\processed\\drooaxkvib.mp4\n",
      "177/1334\n",
      "File already exists: C:\\Users\\KK\\Desktop\\dfd\\processed\\dsgswagtvp.mp4\n",
      "178/1334\n",
      "File already exists: C:\\Users\\KK\\Desktop\\dfd\\processed\\dsiirbwwyt.mp4\n",
      "179/1334\n",
      "File already exists: C:\\Users\\KK\\Desktop\\dfd\\processed\\dsvopuhqiz.mp4\n",
      "180/1334\n",
      "File already exists: C:\\Users\\KK\\Desktop\\dfd\\processed\\dtfyluocuh.mp4\n",
      "181/1334\n",
      "File already exists: C:\\Users\\KK\\Desktop\\dfd\\processed\\dtjcyzgdts.mp4\n",
      "182/1334\n",
      "File already exists: C:\\Users\\KK\\Desktop\\dfd\\processed\\dtmlspmqqp.mp4\n",
      "183/1334\n",
      "File already exists: C:\\Users\\KK\\Desktop\\dfd\\processed\\dtwxxkuvox.mp4\n",
      "184/1334\n",
      "File already exists: C:\\Users\\KK\\Desktop\\dfd\\processed\\dtwzjhoizi.mp4\n",
      "185/1334\n",
      "File already exists: C:\\Users\\KK\\Desktop\\dfd\\processed\\duciovvndy.mp4\n",
      "186/1334\n",
      "File already exists: C:\\Users\\KK\\Desktop\\dfd\\processed\\duczhwighk.mp4\n",
      "187/1334\n",
      "File already exists: C:\\Users\\KK\\Desktop\\dfd\\processed\\dvrnrzlqdo.mp4\n",
      "188/1334\n",
      "File already exists: C:\\Users\\KK\\Desktop\\dfd\\processed\\dwkkqhxclz.mp4\n",
      "189/1334\n",
      "File already exists: C:\\Users\\KK\\Desktop\\dfd\\processed\\dxdzrfikon.mp4\n",
      "190/1334\n",
      "File already exists: C:\\Users\\KK\\Desktop\\dfd\\processed\\dxfdovivlw.mp4\n",
      "191/1334\n",
      "File already exists: C:\\Users\\KK\\Desktop\\dfd\\processed\\dxrqdhegop.mp4\n",
      "192/1334\n",
      "File already exists: C:\\Users\\KK\\Desktop\\dfd\\processed\\dyjklprkoc.mp4\n",
      "193/1334\n",
      "File already exists: C:\\Users\\KK\\Desktop\\dfd\\processed\\dypesfpwyi.mp4\n",
      "194/1334\n",
      "File already exists: C:\\Users\\KK\\Desktop\\dfd\\processed\\dywronddes.mp4\n",
      "195/1334\n",
      "File already exists: C:\\Users\\KK\\Desktop\\dfd\\processed\\dzlpfpszyv.mp4\n",
      "196/1334\n",
      "File already exists: C:\\Users\\KK\\Desktop\\dfd\\processed\\dzpokpqpxr.mp4\n",
      "197/1334\n",
      "File already exists: C:\\Users\\KK\\Desktop\\dfd\\processed\\ealulizawd.mp4\n",
      "198/1334\n",
      "File already exists: C:\\Users\\KK\\Desktop\\dfd\\processed\\eauhakbohz.mp4\n",
      "199/1334\n",
      "File already exists: C:\\Users\\KK\\Desktop\\dfd\\processed\\ebzsqgfpgh.mp4\n",
      "200/1334\n",
      "File already exists: C:\\Users\\KK\\Desktop\\dfd\\processed\\echdilwfig.mp4\n",
      "201/1334\n",
      "File already exists: C:\\Users\\KK\\Desktop\\dfd\\processed\\eckloytegm.mp4\n",
      "202/1334\n",
      "File already exists: C:\\Users\\KK\\Desktop\\dfd\\processed\\ecnmwevrxo.mp4\n",
      "203/1334\n",
      "File already exists: C:\\Users\\KK\\Desktop\\dfd\\processed\\edqhdckynd.mp4\n",
      "204/1334\n",
      "File already exists: C:\\Users\\KK\\Desktop\\dfd\\processed\\eefzpdrrji.mp4\n",
      "205/1334\n",
      "File already exists: C:\\Users\\KK\\Desktop\\dfd\\processed\\efktbhpilh.mp4\n",
      "206/1334\n",
      "File already exists: C:\\Users\\KK\\Desktop\\dfd\\processed\\ehfmarmsvo.mp4\n",
      "207/1334\n",
      "File already exists: C:\\Users\\KK\\Desktop\\dfd\\processed\\eilfbdisof.mp4\n",
      "208/1334\n",
      "File already exists: C:\\Users\\KK\\Desktop\\dfd\\processed\\eisofhptvk.mp4\n",
      "209/1334\n",
      "File already exists: C:\\Users\\KK\\Desktop\\dfd\\processed\\eiwtggvtfp.mp4\n",
      "210/1334\n",
      "File already exists: C:\\Users\\KK\\Desktop\\dfd\\processed\\ejhhdlzpjg.mp4\n",
      "211/1334\n",
      "File already exists: C:\\Users\\KK\\Desktop\\dfd\\processed\\ekkheaisuo.mp4\n",
      "212/1334\n",
      "File already exists: C:\\Users\\KK\\Desktop\\dfd\\processed\\elxflqcpgp.mp4\n",
      "213/1334\n",
      "File already exists: C:\\Users\\KK\\Desktop\\dfd\\processed\\embmaestpq.mp4\n",
      "214/1334\n",
      "File already exists: C:\\Users\\KK\\Desktop\\dfd\\processed\\eneofiltbk.mp4\n",
      "215/1334\n",
      "File already exists: C:\\Users\\KK\\Desktop\\dfd\\processed\\enhiqdvfpu.mp4\n",
      "216/1334\n",
      "File already exists: C:\\Users\\KK\\Desktop\\dfd\\processed\\enqxsifggs.mp4\n",
      "217/1334\n",
      "File already exists: C:\\Users\\KK\\Desktop\\dfd\\processed\\eowsoapzuj.mp4\n",
      "218/1334\n",
      "File already exists: C:\\Users\\KK\\Desktop\\dfd\\processed\\epeyujjlhn.mp4\n",
      "219/1334\n",
      "File already exists: C:\\Users\\KK\\Desktop\\dfd\\processed\\eppmwpntfi.mp4\n",
      "220/1334\n",
      "File already exists: C:\\Users\\KK\\Desktop\\dfd\\processed\\eppyqpgewp.mp4\n",
      "221/1334\n",
      "File already exists: C:\\Users\\KK\\Desktop\\dfd\\processed\\epwesrdmpt.mp4\n",
      "222/1334\n",
      "File already exists: C:\\Users\\KK\\Desktop\\dfd\\processed\\eqakbrnwmd.mp4\n",
      "223/1334\n",
      "File already exists: C:\\Users\\KK\\Desktop\\dfd\\processed\\erbfxwbqic.mp4\n",
      "224/1334\n",
      "File already exists: C:\\Users\\KK\\Desktop\\dfd\\processed\\erbgcpjuzj.mp4\n",
      "225/1334\n",
      "File already exists: C:\\Users\\KK\\Desktop\\dfd\\processed\\ernfzaruwz.mp4\n",
      "226/1334\n",
      "File already exists: C:\\Users\\KK\\Desktop\\dfd\\processed\\escwylyxap.mp4\n",
      "227/1334\n",
      "File already exists: C:\\Users\\KK\\Desktop\\dfd\\processed\\esjdyghhog.mp4\n",
      "228/1334\n",
      "File already exists: C:\\Users\\KK\\Desktop\\dfd\\processed\\espkiocpxq.mp4\n",
      "229/1334\n",
      "File already exists: C:\\Users\\KK\\Desktop\\dfd\\processed\\etdliwticv.mp4\n",
      "230/1334\n",
      "File already exists: C:\\Users\\KK\\Desktop\\dfd\\processed\\etychryvty.mp4\n",
      "231/1334\n",
      "File already exists: C:\\Users\\KK\\Desktop\\dfd\\processed\\euavjxseoz.mp4\n",
      "232/1334\n",
      "File already exists: C:\\Users\\KK\\Desktop\\dfd\\processed\\eugcprxhvd.mp4\n",
      "233/1334\n",
      "File already exists: C:\\Users\\KK\\Desktop\\dfd\\processed\\eurhttghny.mp4\n",
      "234/1334\n",
      "File already exists: C:\\Users\\KK\\Desktop\\dfd\\processed\\euzlhrwolz.mp4\n",
      "235/1334\n",
      "File already exists: C:\\Users\\KK\\Desktop\\dfd\\processed\\ewknjjmzqb.mp4\n",
      "236/1334\n",
      "File already exists: C:\\Users\\KK\\Desktop\\dfd\\processed\\exseruhiuk.mp4\n",
      "237/1334\n",
      "File already exists: C:\\Users\\KK\\Desktop\\dfd\\processed\\exxqlfpnbz.mp4\n",
      "238/1334\n",
      "File already exists: C:\\Users\\KK\\Desktop\\dfd\\processed\\eyyigsrqff.mp4\n",
      "239/1334\n",
      "File already exists: C:\\Users\\KK\\Desktop\\dfd\\processed\\ezzfdnllnp.mp4\n",
      "240/1334\n",
      "File already exists: C:\\Users\\KK\\Desktop\\dfd\\processed\\fahrejqccb.mp4\n",
      "241/1334\n",
      "File already exists: C:\\Users\\KK\\Desktop\\dfd\\processed\\faktmhmtpb.mp4\n",
      "242/1334\n",
      "File already exists: C:\\Users\\KK\\Desktop\\dfd\\processed\\fbgfjwjrzl.mp4\n",
      "243/1334\n",
      "File already exists: C:\\Users\\KK\\Desktop\\dfd\\processed\\fbxpssbrqp.mp4\n",
      "244/1334\n",
      "File already exists: C:\\Users\\KK\\Desktop\\dfd\\processed\\fckxaqjbxk.mp4\n",
      "245/1334\n",
      "File already exists: C:\\Users\\KK\\Desktop\\dfd\\processed\\fdpisghkmd.mp4\n",
      "246/1334\n",
      "File already exists: C:\\Users\\KK\\Desktop\\dfd\\processed\\fdqafjiqtn.mp4\n",
      "247/1334\n",
      "File already exists: C:\\Users\\KK\\Desktop\\dfd\\processed\\fdzrcjpewd.mp4\n",
      "248/1334\n",
      "File already exists: C:\\Users\\KK\\Desktop\\dfd\\processed\\fecaapkwdm.mp4\n",
      "249/1334\n",
      "File already exists: C:\\Users\\KK\\Desktop\\dfd\\processed\\fedcdqtboz.mp4\n",
      "250/1334\n",
      "File already exists: C:\\Users\\KK\\Desktop\\dfd\\processed\\fgbopxbkam.mp4\n",
      "251/1334\n",
      "File already exists: C:\\Users\\KK\\Desktop\\dfd\\processed\\fgobmbcami.mp4\n",
      "252/1334\n",
      "File already exists: C:\\Users\\KK\\Desktop\\dfd\\processed\\fhgnmqzfca.mp4\n",
      "253/1334\n",
      "File already exists: C:\\Users\\KK\\Desktop\\dfd\\processed\\fhtmnfeqft.mp4\n",
      "254/1334\n",
      "File already exists: C:\\Users\\KK\\Desktop\\dfd\\processed\\fhzdtfiqrh.mp4\n",
      "255/1334\n",
      "File already exists: C:\\Users\\KK\\Desktop\\dfd\\processed\\fjafyicjlw.mp4\n",
      "256/1334\n",
      "File already exists: C:\\Users\\KK\\Desktop\\dfd\\processed\\fjrueenjyp.mp4\n",
      "257/1334\n",
      "File already exists: C:\\Users\\KK\\Desktop\\dfd\\processed\\flilazlokf.mp4\n",
      "258/1334\n",
      "File already exists: C:\\Users\\KK\\Desktop\\dfd\\processed\\fmeptfderu.mp4\n",
      "259/1334\n",
      "File already exists: C:\\Users\\KK\\Desktop\\dfd\\processed\\fnkkqtouoz.mp4\n",
      "260/1334\n",
      "File already exists: C:\\Users\\KK\\Desktop\\dfd\\processed\\fnslimfagb.mp4\n",
      "261/1334\n",
      "File already exists: C:\\Users\\KK\\Desktop\\dfd\\processed\\fokjbuazgr.mp4\n",
      "262/1334\n",
      "File already exists: C:\\Users\\KK\\Desktop\\dfd\\processed\\fonrexmbzz.mp4\n",
      "263/1334\n",
      "File already exists: C:\\Users\\KK\\Desktop\\dfd\\processed\\fopjiyxiqd.mp4\n",
      "264/1334\n",
      "File already exists: C:\\Users\\KK\\Desktop\\dfd\\processed\\fpcncmwzxf.mp4\n",
      "265/1334\n",
      "File already exists: C:\\Users\\KK\\Desktop\\dfd\\processed\\fqmfvshgns.mp4\n",
      "266/1334\n",
      "File already exists: C:\\Users\\KK\\Desktop\\dfd\\processed\\frmzkdhkzw.mp4\n",
      "267/1334\n",
      "File already exists: C:\\Users\\KK\\Desktop\\dfd\\processed\\frqhofmoob.mp4\n",
      "268/1334\n",
      "File already exists: C:\\Users\\KK\\Desktop\\dfd\\processed\\frsjawvaoq.mp4\n",
      "269/1334\n",
      "File already exists: C:\\Users\\KK\\Desktop\\dfd\\processed\\fsaronfupy.mp4\n",
      "270/1334\n",
      "File already exists: C:\\Users\\KK\\Desktop\\dfd\\processed\\fsdrwikhge.mp4\n",
      "271/1334\n",
      "File already exists: C:\\Users\\KK\\Desktop\\dfd\\processed\\fsiunpwpqx.mp4\n",
      "272/1334\n",
      "File already exists: C:\\Users\\KK\\Desktop\\dfd\\processed\\fswszwicfw.mp4\n",
      "273/1334\n",
      "File already exists: C:\\Users\\KK\\Desktop\\dfd\\processed\\fufcmupzen.mp4\n",
      "274/1334\n",
      "File already exists: C:\\Users\\KK\\Desktop\\dfd\\processed\\fuiglusbnl.mp4\n",
      "275/1334\n",
      "File already exists: C:\\Users\\KK\\Desktop\\dfd\\processed\\furvgnwfln.mp4\n",
      "276/1334\n",
      "File already exists: C:\\Users\\KK\\Desktop\\dfd\\processed\\fuzdxjsqvp.mp4\n",
      "277/1334\n",
      "Using device: cuda\n"
     ]
    },
    {
     "name": "stderr",
     "output_type": "stream",
     "text": [
      "C:\\Users\\KK\\AppData\\Roaming\\Python\\Python312\\site-packages\\facenet_pytorch\\models\\mtcnn.py:34: FutureWarning: You are using `torch.load` with `weights_only=False` (the current default value), which uses the default pickle module implicitly. It is possible to construct malicious pickle data which will execute arbitrary code during unpickling (See https://github.com/pytorch/pytorch/blob/main/SECURITY.md#untrusted-models for more details). In a future release, the default value for `weights_only` will be flipped to `True`. This limits the functions that could be executed during unpickling. Arbitrary objects will no longer be allowed to be loaded via this mode unless they are explicitly allowlisted by the user via `torch.serialization.add_safe_globals`. We recommend you start setting `weights_only=True` for any use case where you don't have full control of the loaded file. Please open an issue on GitHub for any issues related to this experimental feature.\n",
      "  state_dict = torch.load(state_dict_path)\n",
      "C:\\Users\\KK\\AppData\\Roaming\\Python\\Python312\\site-packages\\facenet_pytorch\\models\\mtcnn.py:79: FutureWarning: You are using `torch.load` with `weights_only=False` (the current default value), which uses the default pickle module implicitly. It is possible to construct malicious pickle data which will execute arbitrary code during unpickling (See https://github.com/pytorch/pytorch/blob/main/SECURITY.md#untrusted-models for more details). In a future release, the default value for `weights_only` will be flipped to `True`. This limits the functions that could be executed during unpickling. Arbitrary objects will no longer be allowed to be loaded via this mode unless they are explicitly allowlisted by the user via `torch.serialization.add_safe_globals`. We recommend you start setting `weights_only=True` for any use case where you don't have full control of the loaded file. Please open an issue on GitHub for any issues related to this experimental feature.\n",
      "  state_dict = torch.load(state_dict_path)\n",
      "C:\\Users\\KK\\AppData\\Roaming\\Python\\Python312\\site-packages\\facenet_pytorch\\models\\mtcnn.py:132: FutureWarning: You are using `torch.load` with `weights_only=False` (the current default value), which uses the default pickle module implicitly. It is possible to construct malicious pickle data which will execute arbitrary code during unpickling (See https://github.com/pytorch/pytorch/blob/main/SECURITY.md#untrusted-models for more details). In a future release, the default value for `weights_only` will be flipped to `True`. This limits the functions that could be executed during unpickling. Arbitrary objects will no longer be allowed to be loaded via this mode unless they are explicitly allowlisted by the user via `torch.serialization.add_safe_globals`. We recommend you start setting `weights_only=True` for any use case where you don't have full control of the loaded file. Please open an issue on GitHub for any issues related to this experimental feature.\n",
      "  state_dict = torch.load(state_dict_path)\n"
     ]
    },
    {
     "name": "stdout",
     "output_type": "stream",
     "text": [
      "Processing video: C:\\Users\\KK\\Desktop\\dfd\\dfdc_train_part_0\\fxredodlkl.mp4\n",
      "Total frames in video: 300, FPS: 29.9688\n"
     ]
    },
    {
     "name": "stderr",
     "output_type": "stream",
     "text": [
      "Processing videos:  21%|████████████▍                                               | 277/1334 [00:29<01:51,  9.49it/s]"
     ]
    },
    {
     "name": "stdout",
     "output_type": "stream",
     "text": [
      "278/1334\n",
      "Using device: cuda\n",
      "Processing video: C:\\Users\\KK\\Desktop\\dfd\\dfdc_train_part_0\\fxuxxtryjn.mp4\n",
      "Total frames in video: 300, FPS: 29.969\n"
     ]
    },
    {
     "name": "stderr",
     "output_type": "stream",
     "text": [
      "Processing videos:  21%|████████████▌                                               | 278/1334 [00:57<04:24,  3.99it/s]"
     ]
    },
    {
     "name": "stdout",
     "output_type": "stream",
     "text": [
      "279/1334\n",
      "Using device: cuda\n",
      "Processing video: C:\\Users\\KK\\Desktop\\dfd\\dfdc_train_part_0\\fybkxkgstv.mp4\n",
      "Total frames in video: 300, FPS: 29.9688\n"
     ]
    },
    {
     "name": "stderr",
     "output_type": "stream",
     "text": [
      "Processing videos:  21%|████████████▌                                               | 279/1334 [01:22<07:33,  2.33it/s]"
     ]
    },
    {
     "name": "stdout",
     "output_type": "stream",
     "text": [
      "280/1334\n",
      "Using device: cuda\n",
      "Processing video: C:\\Users\\KK\\Desktop\\dfd\\dfdc_train_part_0\\fydhhlvjsj.mp4\n",
      "Total frames in video: 300, FPS: 29.969\n"
     ]
    },
    {
     "name": "stderr",
     "output_type": "stream",
     "text": [
      "Processing videos:  21%|████████████▌                                               | 280/1334 [01:54<13:13,  1.33it/s]"
     ]
    },
    {
     "name": "stdout",
     "output_type": "stream",
     "text": [
      "281/1334\n",
      "Using device: cuda\n",
      "Processing video: C:\\Users\\KK\\Desktop\\dfd\\dfdc_train_part_0\\fyrckgsqvg.mp4\n",
      "Total frames in video: 300, FPS: 29.9692\n"
     ]
    },
    {
     "name": "stderr",
     "output_type": "stream",
     "text": [
      "Processing videos:  21%|████████████▋                                               | 281/1334 [02:42<25:09,  1.43s/it]"
     ]
    },
    {
     "name": "stdout",
     "output_type": "stream",
     "text": [
      "282/1334\n",
      "Using device: cuda\n",
      "Processing video: C:\\Users\\KK\\Desktop\\dfd\\dfdc_train_part_0\\fzkzqwoghs.mp4\n",
      "Total frames in video: 300, FPS: 29.9688\n"
     ]
    },
    {
     "name": "stderr",
     "output_type": "stream",
     "text": [
      "Processing videos:  21%|████████████▋                                               | 282/1334 [03:07<33:41,  1.92s/it]"
     ]
    },
    {
     "name": "stdout",
     "output_type": "stream",
     "text": [
      "283/1334\n",
      "Using device: cuda\n",
      "Processing video: C:\\Users\\KK\\Desktop\\dfd\\dfdc_train_part_0\\fzqnoyzhbm.mp4\n",
      "Total frames in video: 300, FPS: 29.9687\n"
     ]
    },
    {
     "name": "stderr",
     "output_type": "stream",
     "text": [
      "Processing videos:  21%|████████████▋                                               | 283/1334 [03:57<57:06,  3.26s/it]"
     ]
    },
    {
     "name": "stdout",
     "output_type": "stream",
     "text": [
      "284/1334\n",
      "Using device: cuda\n",
      "Processing video: C:\\Users\\KK\\Desktop\\dfd\\dfdc_train_part_0\\fzvpbrzssi.mp4\n",
      "Total frames in video: 300, FPS: 29.969\n"
     ]
    },
    {
     "name": "stderr",
     "output_type": "stream",
     "text": [
      "Processing videos:  21%|████████████▎                                             | 284/1334 [04:26<1:14:51,  4.28s/it]"
     ]
    },
    {
     "name": "stdout",
     "output_type": "stream",
     "text": [
      "285/1334\n",
      "Using device: cuda\n",
      "Processing video: C:\\Users\\KK\\Desktop\\dfd\\dfdc_train_part_0\\gbatfzbsjs.mp4\n",
      "Total frames in video: 300, FPS: 29.969\n"
     ]
    },
    {
     "name": "stderr",
     "output_type": "stream",
     "text": [
      "Processing videos:  21%|████████████▍                                             | 285/1334 [04:51<1:33:17,  5.34s/it]"
     ]
    },
    {
     "name": "stdout",
     "output_type": "stream",
     "text": [
      "286/1334\n",
      "Using device: cuda\n",
      "Processing video: C:\\Users\\KK\\Desktop\\dfd\\dfdc_train_part_0\\gbgtzspdnv.mp4\n",
      "Total frames in video: 300, FPS: 29.9686\n"
     ]
    },
    {
     "name": "stderr",
     "output_type": "stream",
     "text": [
      "Processing videos:  21%|████████████▍                                             | 286/1334 [05:15<1:56:37,  6.68s/it]"
     ]
    },
    {
     "name": "stdout",
     "output_type": "stream",
     "text": [
      "287/1334\n",
      "Using device: cuda\n",
      "Processing video: C:\\Users\\KK\\Desktop\\dfd\\dfdc_train_part_0\\gccnvdoknm.mp4\n",
      "Total frames in video: 300, FPS: 29.9692\n"
     ]
    },
    {
     "name": "stderr",
     "output_type": "stream",
     "text": [
      "Processing videos:  22%|████████████▍                                             | 287/1334 [06:00<2:57:16, 10.16s/it]"
     ]
    },
    {
     "name": "stdout",
     "output_type": "stream",
     "text": [
      "288/1334\n",
      "Using device: cuda\n",
      "Processing video: C:\\Users\\KK\\Desktop\\dfd\\dfdc_train_part_0\\gcdtglsoqj.mp4\n",
      "Total frames in video: 300, FPS: 29.9686\n"
     ]
    },
    {
     "name": "stderr",
     "output_type": "stream",
     "text": [
      "Processing videos:  22%|████████████▌                                             | 288/1334 [06:42<4:00:04, 13.77s/it]"
     ]
    },
    {
     "name": "stdout",
     "output_type": "stream",
     "text": [
      "289/1334\n",
      "Using device: cuda\n",
      "Processing video: C:\\Users\\KK\\Desktop\\dfd\\dfdc_train_part_0\\gcnhqdxwqd.mp4\n",
      "Total frames in video: 300, FPS: 29.9687\n"
     ]
    },
    {
     "name": "stderr",
     "output_type": "stream",
     "text": [
      "Processing videos:  22%|████████████▌                                             | 289/1334 [07:29<5:20:43, 18.41s/it]"
     ]
    },
    {
     "name": "stdout",
     "output_type": "stream",
     "text": [
      "290/1334\n",
      "Using device: cuda\n",
      "Processing video: C:\\Users\\KK\\Desktop\\dfd\\dfdc_train_part_0\\gcphojsohr.mp4\n",
      "Total frames in video: 300, FPS: 29.9688\n"
     ]
    },
    {
     "name": "stderr",
     "output_type": "stream",
     "text": [
      "Processing videos:  22%|████████████▌                                             | 290/1334 [07:53<5:35:35, 19.29s/it]"
     ]
    },
    {
     "name": "stdout",
     "output_type": "stream",
     "text": [
      "291/1334\n",
      "Using device: cuda\n",
      "Processing video: C:\\Users\\KK\\Desktop\\dfd\\dfdc_train_part_0\\gczieafvpe.mp4\n",
      "Total frames in video: 300, FPS: 29.9685\n"
     ]
    },
    {
     "name": "stderr",
     "output_type": "stream",
     "text": [
      "Processing videos:  22%|████████████▋                                             | 291/1334 [08:25<6:19:04, 21.81s/it]"
     ]
    },
    {
     "name": "stdout",
     "output_type": "stream",
     "text": [
      "292/1334\n",
      "Using device: cuda\n",
      "Processing video: C:\\Users\\KK\\Desktop\\dfd\\dfdc_train_part_0\\gecrjewspu.mp4\n",
      "Total frames in video: 300, FPS: 29.9689\n"
     ]
    },
    {
     "name": "stderr",
     "output_type": "stream",
     "text": [
      "Processing videos:  22%|████████████▋                                             | 292/1334 [08:51<6:36:03, 22.81s/it]"
     ]
    },
    {
     "name": "stdout",
     "output_type": "stream",
     "text": [
      "293/1334\n",
      "Using device: cuda\n",
      "Processing video: C:\\Users\\KK\\Desktop\\dfd\\dfdc_train_part_0\\geknowufwz.mp4\n",
      "Total frames in video: 300, FPS: 29.9687\n"
     ]
    },
    {
     "name": "stderr",
     "output_type": "stream",
     "text": [
      "Processing videos:  22%|████████████▋                                             | 293/1334 [09:46<8:47:20, 30.39s/it]"
     ]
    },
    {
     "name": "stdout",
     "output_type": "stream",
     "text": [
      "294/1334\n",
      "Using device: cuda\n",
      "Processing video: C:\\Users\\KK\\Desktop\\dfd\\dfdc_train_part_0\\gepzcywmsx.mp4\n",
      "Total frames in video: 300, FPS: 29.969\n"
     ]
    },
    {
     "name": "stderr",
     "output_type": "stream",
     "text": [
      "Processing videos:  22%|████████████▌                                            | 294/1334 [10:45<10:48:58, 37.44s/it]"
     ]
    },
    {
     "name": "stdout",
     "output_type": "stream",
     "text": [
      "295/1334\n",
      "Using device: cuda\n",
      "Processing video: C:\\Users\\KK\\Desktop\\dfd\\dfdc_train_part_0\\getmctvhmd.mp4\n",
      "Total frames in video: 300, FPS: 29.969\n"
     ]
    },
    {
     "name": "stderr",
     "output_type": "stream",
     "text": [
      "Processing videos:  22%|████████████▌                                            | 295/1334 [11:14<10:09:07, 35.18s/it]"
     ]
    },
    {
     "name": "stdout",
     "output_type": "stream",
     "text": [
      "296/1334\n",
      "Using device: cuda\n",
      "Processing video: C:\\Users\\KK\\Desktop\\dfd\\dfdc_train_part_0\\gfcycflhbo.mp4\n",
      "Total frames in video: 300, FPS: 29.969\n"
     ]
    },
    {
     "name": "stderr",
     "output_type": "stream",
     "text": [
      "Processing videos:  22%|████████████▊                                             | 296/1334 [11:47<9:57:52, 34.56s/it]"
     ]
    },
    {
     "name": "stdout",
     "output_type": "stream",
     "text": [
      "297/1334\n",
      "Using device: cuda\n",
      "Processing video: C:\\Users\\KK\\Desktop\\dfd\\dfdc_train_part_0\\gfdjzwnpyp.mp4\n",
      "Total frames in video: 300, FPS: 29.969\n"
     ]
    },
    {
     "name": "stderr",
     "output_type": "stream",
     "text": [
      "Processing videos:  22%|████████████▋                                            | 297/1334 [12:40<11:27:12, 39.76s/it]"
     ]
    },
    {
     "name": "stdout",
     "output_type": "stream",
     "text": [
      "298/1334\n",
      "Using device: cuda\n",
      "Processing video: C:\\Users\\KK\\Desktop\\dfd\\dfdc_train_part_0\\gfkdvulbfo.mp4\n",
      "Total frames in video: 300, FPS: 29.9687\n"
     ]
    },
    {
     "name": "stderr",
     "output_type": "stream",
     "text": [
      "Processing videos:  22%|████████████▋                                            | 298/1334 [13:30<12:18:53, 42.79s/it]"
     ]
    },
    {
     "name": "stdout",
     "output_type": "stream",
     "text": [
      "299/1334\n",
      "Using device: cuda\n",
      "Processing video: C:\\Users\\KK\\Desktop\\dfd\\dfdc_train_part_0\\gfknvvudwk.mp4\n",
      "Total frames in video: 300, FPS: 29.9685\n"
     ]
    },
    {
     "name": "stderr",
     "output_type": "stream",
     "text": [
      "Processing videos:  22%|████████████▊                                            | 299/1334 [14:05<11:38:32, 40.50s/it]"
     ]
    },
    {
     "name": "stdout",
     "output_type": "stream",
     "text": [
      "300/1334\n",
      "Using device: cuda\n",
      "Processing video: C:\\Users\\KK\\Desktop\\dfd\\dfdc_train_part_0\\gfncmhgdio.mp4\n",
      "Total frames in video: 300, FPS: 29.9686\n"
     ]
    },
    {
     "name": "stderr",
     "output_type": "stream",
     "text": [
      "Processing videos:  22%|████████████▊                                            | 300/1334 [14:33<10:34:15, 36.80s/it]"
     ]
    },
    {
     "name": "stdout",
     "output_type": "stream",
     "text": [
      "301/1334\n",
      "Using device: cuda\n",
      "Processing video: C:\\Users\\KK\\Desktop\\dfd\\dfdc_train_part_0\\gfoozygynw.mp4\n",
      "Total frames in video: 300, FPS: 29.9688\n"
     ]
    },
    {
     "name": "stderr",
     "output_type": "stream",
     "text": [
      "Processing videos:  23%|█████████████                                             | 301/1334 [15:01<9:51:21, 34.35s/it]"
     ]
    },
    {
     "name": "stdout",
     "output_type": "stream",
     "text": [
      "302/1334\n",
      "Using device: cuda\n",
      "Processing video: C:\\Users\\KK\\Desktop\\dfd\\dfdc_train_part_0\\gilzdnbpep.mp4\n",
      "Total frames in video: 300, FPS: 29.9691\n"
     ]
    },
    {
     "name": "stderr",
     "output_type": "stream",
     "text": [
      "Processing videos:  23%|█████████████▏                                            | 302/1334 [15:25<8:56:21, 31.18s/it]"
     ]
    },
    {
     "name": "stdout",
     "output_type": "stream",
     "text": [
      "303/1334\n",
      "Using device: cuda\n",
      "Processing video: C:\\Users\\KK\\Desktop\\dfd\\dfdc_train_part_0\\gjiziopvis.mp4\n",
      "Total frames in video: 300, FPS: 29.969\n"
     ]
    },
    {
     "name": "stderr",
     "output_type": "stream",
     "text": [
      "Processing videos:  23%|█████████████▏                                            | 303/1334 [15:58<9:05:13, 31.73s/it]"
     ]
    },
    {
     "name": "stdout",
     "output_type": "stream",
     "text": [
      "304/1334\n",
      "Using device: cuda\n",
      "Processing video: C:\\Users\\KK\\Desktop\\dfd\\dfdc_train_part_0\\gjjpzsgigh.mp4\n",
      "Total frames in video: 300, FPS: 29.969\n"
     ]
    },
    {
     "name": "stderr",
     "output_type": "stream",
     "text": [
      "Processing videos:  23%|█████████████▏                                            | 304/1334 [16:39<9:53:21, 34.56s/it]"
     ]
    },
    {
     "name": "stdout",
     "output_type": "stream",
     "text": [
      "305/1334\n",
      "Using device: cuda\n",
      "Processing video: C:\\Users\\KK\\Desktop\\dfd\\dfdc_train_part_0\\gjxfowkaeo.mp4\n",
      "Total frames in video: 300, FPS: 29.9687\n"
     ]
    },
    {
     "name": "stderr",
     "output_type": "stream",
     "text": [
      "Processing videos:  23%|█████████████                                            | 305/1334 [17:43<12:20:13, 43.16s/it]"
     ]
    },
    {
     "name": "stdout",
     "output_type": "stream",
     "text": [
      "306/1334\n",
      "Using device: cuda\n",
      "Processing video: C:\\Users\\KK\\Desktop\\dfd\\dfdc_train_part_0\\gkicllwmyb.mp4\n",
      "Total frames in video: 300, FPS: 29.9686\n"
     ]
    },
    {
     "name": "stderr",
     "output_type": "stream",
     "text": [
      "Processing videos:  23%|█████████████                                            | 306/1334 [18:16<11:30:16, 40.29s/it]"
     ]
    },
    {
     "name": "stdout",
     "output_type": "stream",
     "text": [
      "307/1334\n",
      "Using device: cuda\n",
      "Processing video: C:\\Users\\KK\\Desktop\\dfd\\dfdc_train_part_0\\gkqitjodaa.mp4\n",
      "Total frames in video: 300, FPS: 29.9686\n"
     ]
    },
    {
     "name": "stderr",
     "output_type": "stream",
     "text": [
      "Processing videos:  23%|█████████████                                            | 307/1334 [18:49<10:52:00, 38.09s/it]"
     ]
    },
    {
     "name": "stdout",
     "output_type": "stream",
     "text": [
      "308/1334\n",
      "Using device: cuda\n",
      "Processing video: C:\\Users\\KK\\Desktop\\dfd\\dfdc_train_part_0\\gldlvkplzy.mp4\n",
      "Total frames in video: 300, FPS: 29.9687\n"
     ]
    },
    {
     "name": "stderr",
     "output_type": "stream",
     "text": [
      "Processing videos:  23%|█████████████▏                                           | 308/1334 [19:55<13:14:21, 46.45s/it]"
     ]
    },
    {
     "name": "stdout",
     "output_type": "stream",
     "text": [
      "309/1334\n",
      "Using device: cuda\n",
      "Processing video: C:\\Users\\KK\\Desktop\\dfd\\dfdc_train_part_0\\gmaghrdamw.mp4\n",
      "Total frames in video: 300, FPS: 29.9691\n"
     ]
    },
    {
     "name": "stderr",
     "output_type": "stream",
     "text": [
      "Processing videos:  23%|█████████████▏                                           | 309/1334 [20:42<13:17:43, 46.70s/it]"
     ]
    },
    {
     "name": "stdout",
     "output_type": "stream",
     "text": [
      "310/1334\n",
      "Using device: cuda\n",
      "Processing video: C:\\Users\\KK\\Desktop\\dfd\\dfdc_train_part_0\\gmctmgmyob.mp4\n",
      "Total frames in video: 300, FPS: 29.969\n"
     ]
    },
    {
     "name": "stderr",
     "output_type": "stream",
     "text": [
      "Processing videos:  23%|█████████████▏                                           | 310/1334 [21:19<12:23:47, 43.58s/it]"
     ]
    },
    {
     "name": "stdout",
     "output_type": "stream",
     "text": [
      "311/1334\n",
      "Using device: cuda\n",
      "Processing video: C:\\Users\\KK\\Desktop\\dfd\\dfdc_train_part_0\\gmonvwaujc.mp4\n",
      "Total frames in video: 300, FPS: 29.9691\n"
     ]
    },
    {
     "name": "stderr",
     "output_type": "stream",
     "text": [
      "Processing videos:  23%|█████████████▎                                           | 311/1334 [21:50<11:20:59, 39.94s/it]"
     ]
    },
    {
     "name": "stdout",
     "output_type": "stream",
     "text": [
      "312/1334\n",
      "Using device: cuda\n",
      "Processing video: C:\\Users\\KK\\Desktop\\dfd\\dfdc_train_part_0\\gnlvnyrpfq.mp4\n",
      "Total frames in video: 300, FPS: 29.9688\n"
     ]
    },
    {
     "name": "stderr",
     "output_type": "stream",
     "text": [
      "Processing videos:  23%|█████████████▎                                           | 312/1334 [22:21<10:34:52, 37.27s/it]"
     ]
    },
    {
     "name": "stdout",
     "output_type": "stream",
     "text": [
      "313/1334\n",
      "Using device: cuda\n",
      "Processing video: C:\\Users\\KK\\Desktop\\dfd\\dfdc_train_part_0\\gnmmhlbzge.mp4\n",
      "Total frames in video: 300, FPS: 29.9687\n"
     ]
    },
    {
     "name": "stderr",
     "output_type": "stream",
     "text": [
      "Processing videos:  23%|█████████████▎                                           | 313/1334 [23:26<12:55:57, 45.60s/it]"
     ]
    },
    {
     "name": "stdout",
     "output_type": "stream",
     "text": [
      "314/1334\n",
      "Using device: cuda\n",
      "Processing video: C:\\Users\\KK\\Desktop\\dfd\\dfdc_train_part_0\\gnslnjrgnx.mp4\n",
      "Total frames in video: 300, FPS: 29.9688\n"
     ]
    },
    {
     "name": "stderr",
     "output_type": "stream",
     "text": [
      "Processing videos:  24%|█████████████▍                                           | 314/1334 [24:00<11:54:28, 42.03s/it]"
     ]
    },
    {
     "name": "stdout",
     "output_type": "stream",
     "text": [
      "315/1334\n",
      "Using device: cuda\n",
      "Processing video: C:\\Users\\KK\\Desktop\\dfd\\dfdc_train_part_0\\gnxgiwcknq.mp4\n",
      "Total frames in video: 300, FPS: 29.9688\n"
     ]
    },
    {
     "name": "stderr",
     "output_type": "stream",
     "text": [
      "Processing videos:  24%|█████████████▍                                           | 315/1334 [24:34<11:13:26, 39.65s/it]"
     ]
    },
    {
     "name": "stdout",
     "output_type": "stream",
     "text": [
      "316/1334\n",
      "Using device: cuda\n",
      "Processing video: C:\\Users\\KK\\Desktop\\dfd\\dfdc_train_part_0\\gnxlbuwucy.mp4\n",
      "Total frames in video: 300, FPS: 29.969\n"
     ]
    },
    {
     "name": "stderr",
     "output_type": "stream",
     "text": [
      "Processing videos:  24%|█████████████▌                                           | 316/1334 [25:18<11:34:25, 40.93s/it]"
     ]
    },
    {
     "name": "stdout",
     "output_type": "stream",
     "text": [
      "317/1334\n",
      "Using device: cuda\n",
      "Processing video: C:\\Users\\KK\\Desktop\\dfd\\dfdc_train_part_0\\gohsbddbhu.mp4\n",
      "Total frames in video: 300, FPS: 29.969\n",
      "No faces detected in frame 93\n",
      "No faces detected in frame 94\n",
      "No faces detected in frame 95\n"
     ]
    },
    {
     "name": "stderr",
     "output_type": "stream",
     "text": [
      "Processing videos:  24%|█████████████▌                                           | 317/1334 [25:56<11:18:41, 40.04s/it]"
     ]
    },
    {
     "name": "stdout",
     "output_type": "stream",
     "text": [
      "318/1334\n",
      "Using device: cuda\n",
      "Processing video: C:\\Users\\KK\\Desktop\\dfd\\dfdc_train_part_0\\goxbkycgkg.mp4\n",
      "Total frames in video: 300, FPS: 29.9691\n"
     ]
    },
    {
     "name": "stderr",
     "output_type": "stream",
     "text": [
      "Processing videos:  24%|█████████████▌                                           | 318/1334 [26:30<10:48:20, 38.29s/it]"
     ]
    },
    {
     "name": "stdout",
     "output_type": "stream",
     "text": [
      "319/1334\n",
      "Using device: cuda\n",
      "Processing video: C:\\Users\\KK\\Desktop\\dfd\\dfdc_train_part_0\\goyrhrvden.mp4\n",
      "Total frames in video: 300, FPS: 29.969\n"
     ]
    },
    {
     "name": "stderr",
     "output_type": "stream",
     "text": [
      "Processing videos:  24%|█████████████▋                                           | 319/1334 [27:07<10:39:40, 37.81s/it]"
     ]
    },
    {
     "name": "stdout",
     "output_type": "stream",
     "text": [
      "320/1334\n",
      "Using device: cuda\n",
      "Processing video: C:\\Users\\KK\\Desktop\\dfd\\dfdc_train_part_0\\gozbrlxguv.mp4\n",
      "Total frames in video: 300, FPS: 29.969\n"
     ]
    },
    {
     "name": "stderr",
     "output_type": "stream",
     "text": [
      "Processing videos:  24%|█████████████▋                                           | 320/1334 [27:44<10:36:06, 37.64s/it]"
     ]
    },
    {
     "name": "stdout",
     "output_type": "stream",
     "text": [
      "321/1334\n",
      "Using device: cuda\n",
      "Processing video: C:\\Users\\KK\\Desktop\\dfd\\dfdc_train_part_0\\gpjhljtyoq.mp4\n",
      "Total frames in video: 300, FPS: 29.9686\n"
     ]
    },
    {
     "name": "stderr",
     "output_type": "stream",
     "text": [
      "Processing videos:  24%|█████████████▋                                           | 321/1334 [28:40<12:09:58, 43.24s/it]"
     ]
    },
    {
     "name": "stdout",
     "output_type": "stream",
     "text": [
      "322/1334\n",
      "Using device: cuda\n",
      "Processing video: C:\\Users\\KK\\Desktop\\dfd\\dfdc_train_part_0\\gpskwigkxd.mp4\n",
      "Total frames in video: 300, FPS: 29.9688\n"
     ]
    },
    {
     "name": "stderr",
     "output_type": "stream",
     "text": [
      "Processing videos:  24%|█████████████▊                                           | 322/1334 [29:12<11:10:13, 39.74s/it]"
     ]
    },
    {
     "name": "stdout",
     "output_type": "stream",
     "text": [
      "323/1334\n",
      "Using device: cuda\n",
      "Processing video: C:\\Users\\KK\\Desktop\\dfd\\dfdc_train_part_0\\gpzwvdkuie.mp4\n",
      "Total frames in video: 300, FPS: 29.9687\n"
     ]
    },
    {
     "name": "stderr",
     "output_type": "stream",
     "text": [
      "Processing videos:  24%|█████████████▊                                           | 323/1334 [30:15<13:07:17, 46.72s/it]"
     ]
    },
    {
     "name": "stdout",
     "output_type": "stream",
     "text": [
      "324/1334\n",
      "Using device: cuda\n",
      "Processing video: C:\\Users\\KK\\Desktop\\dfd\\dfdc_train_part_0\\gqnaxievjx.mp4\n",
      "Total frames in video: 300, FPS: 29.9688\n"
     ]
    },
    {
     "name": "stderr",
     "output_type": "stream",
     "text": [
      "Processing videos:  24%|█████████████▊                                           | 324/1334 [30:46<11:47:47, 42.05s/it]"
     ]
    },
    {
     "name": "stdout",
     "output_type": "stream",
     "text": [
      "325/1334\n",
      "Using device: cuda\n",
      "Processing video: C:\\Users\\KK\\Desktop\\dfd\\dfdc_train_part_0\\gqnkarjtmh.mp4\n",
      "Total frames in video: 300, FPS: 29.9687\n"
     ]
    },
    {
     "name": "stderr",
     "output_type": "stream",
     "text": [
      "Processing videos:  24%|█████████████▉                                           | 325/1334 [31:52<13:45:41, 49.10s/it]"
     ]
    },
    {
     "name": "stdout",
     "output_type": "stream",
     "text": [
      "326/1334\n",
      "Using device: cuda\n",
      "Processing video: C:\\Users\\KK\\Desktop\\dfd\\dfdc_train_part_0\\grqyyhfexr.mp4\n",
      "Total frames in video: 300, FPS: 29.9688\n"
     ]
    },
    {
     "name": "stderr",
     "output_type": "stream",
     "text": [
      "Processing videos:  24%|█████████████▉                                           | 326/1334 [32:23<12:14:01, 43.69s/it]"
     ]
    },
    {
     "name": "stdout",
     "output_type": "stream",
     "text": [
      "327/1334\n",
      "Using device: cuda\n",
      "Processing video: C:\\Users\\KK\\Desktop\\dfd\\dfdc_train_part_0\\gtdjfweoyr.mp4\n",
      "Total frames in video: 300, FPS: 29.9687\n"
     ]
    },
    {
     "name": "stderr",
     "output_type": "stream",
     "text": [
      "Processing videos:  25%|█████████████▉                                           | 327/1334 [33:28<14:04:16, 50.30s/it]"
     ]
    },
    {
     "name": "stdout",
     "output_type": "stream",
     "text": [
      "328/1334\n",
      "Using device: cuda\n",
      "Processing video: C:\\Users\\KK\\Desktop\\dfd\\dfdc_train_part_0\\gtfwzfrxml.mp4\n",
      "Total frames in video: 300, FPS: 29.9686\n",
      "No faces detected in frame 54\n",
      "No faces detected in frame 91\n",
      "No faces detected in frame 92\n",
      "No faces detected in frame 97\n",
      "No faces detected in frame 145\n",
      "No faces detected in frame 146\n"
     ]
    },
    {
     "name": "stderr",
     "output_type": "stream",
     "text": [
      "Processing videos:  25%|██████████████                                           | 328/1334 [34:04<12:48:10, 45.82s/it]"
     ]
    },
    {
     "name": "stdout",
     "output_type": "stream",
     "text": [
      "329/1334\n",
      "Using device: cuda\n",
      "Processing video: C:\\Users\\KK\\Desktop\\dfd\\dfdc_train_part_0\\gtinxlhder.mp4\n",
      "Total frames in video: 300, FPS: 29.9688\n"
     ]
    },
    {
     "name": "stderr",
     "output_type": "stream",
     "text": [
      "Processing videos:  25%|██████████████                                           | 329/1334 [34:37<11:45:06, 42.10s/it]"
     ]
    },
    {
     "name": "stdout",
     "output_type": "stream",
     "text": [
      "330/1334\n",
      "Using device: cuda\n",
      "Processing video: C:\\Users\\KK\\Desktop\\dfd\\dfdc_train_part_0\\gudedkpnie.mp4\n",
      "Total frames in video: 300, FPS: 29.9691\n"
     ]
    },
    {
     "name": "stderr",
     "output_type": "stream",
     "text": [
      "Processing videos:  25%|██████████████                                           | 330/1334 [35:12<11:09:43, 40.02s/it]"
     ]
    },
    {
     "name": "stdout",
     "output_type": "stream",
     "text": [
      "331/1334\n",
      "Using device: cuda\n",
      "Processing video: C:\\Users\\KK\\Desktop\\dfd\\dfdc_train_part_0\\gujnhuvarb.mp4\n",
      "Total frames in video: 300, FPS: 29.9686\n"
     ]
    },
    {
     "name": "stderr",
     "output_type": "stream",
     "text": [
      "Processing videos:  25%|██████████████▏                                          | 331/1334 [35:49<10:50:14, 38.90s/it]"
     ]
    },
    {
     "name": "stdout",
     "output_type": "stream",
     "text": [
      "332/1334\n",
      "Using device: cuda\n",
      "Processing video: C:\\Users\\KK\\Desktop\\dfd\\dfdc_train_part_0\\gumgvhycum.mp4\n",
      "Total frames in video: 300, FPS: 29.9691\n"
     ]
    },
    {
     "name": "stderr",
     "output_type": "stream",
     "text": [
      "Processing videos:  25%|██████████████▏                                          | 332/1334 [36:22<10:24:07, 37.37s/it]"
     ]
    },
    {
     "name": "stdout",
     "output_type": "stream",
     "text": [
      "333/1334\n",
      "Using device: cuda\n",
      "Processing video: C:\\Users\\KK\\Desktop\\dfd\\dfdc_train_part_0\\guqayoypew.mp4\n",
      "Total frames in video: 300, FPS: 29.9687\n"
     ]
    },
    {
     "name": "stderr",
     "output_type": "stream",
     "text": [
      "Processing videos:  25%|██████████████▏                                          | 333/1334 [37:27<12:42:06, 45.68s/it]"
     ]
    },
    {
     "name": "stdout",
     "output_type": "stream",
     "text": [
      "334/1334\n",
      "Using device: cuda\n",
      "Processing video: C:\\Users\\KK\\Desktop\\dfd\\dfdc_train_part_0\\gvasarkpfh.mp4\n",
      "Total frames in video: 300, FPS: 29.969\n"
     ]
    },
    {
     "name": "stderr",
     "output_type": "stream",
     "text": [
      "Processing videos:  25%|██████████████▎                                          | 334/1334 [38:41<15:01:18, 54.08s/it]"
     ]
    },
    {
     "name": "stdout",
     "output_type": "stream",
     "text": [
      "335/1334\n",
      "Using device: cuda\n",
      "Processing video: C:\\Users\\KK\\Desktop\\dfd\\dfdc_train_part_0\\gvbcwuyaot.mp4\n",
      "Total frames in video: 300, FPS: 29.9691\n"
     ]
    },
    {
     "name": "stderr",
     "output_type": "stream",
     "text": [
      "Processing videos:  25%|██████████████▎                                          | 335/1334 [39:11<12:57:39, 46.71s/it]"
     ]
    },
    {
     "name": "stdout",
     "output_type": "stream",
     "text": [
      "336/1334\n",
      "Using device: cuda\n",
      "Processing video: C:\\Users\\KK\\Desktop\\dfd\\dfdc_train_part_0\\gvcrwbnzpa.mp4\n",
      "Total frames in video: 300, FPS: 29.969\n",
      "No faces detected in frame 25\n",
      "No faces detected in frame 26\n"
     ]
    },
    {
     "name": "stderr",
     "output_type": "stream",
     "text": [
      "Processing videos:  25%|██████████████▎                                          | 336/1334 [39:39<11:27:08, 41.31s/it]"
     ]
    },
    {
     "name": "stdout",
     "output_type": "stream",
     "text": [
      "337/1334\n",
      "Using device: cuda\n",
      "Processing video: C:\\Users\\KK\\Desktop\\dfd\\dfdc_train_part_0\\gvlraqlweh.mp4\n",
      "Total frames in video: 300, FPS: 29.969\n"
     ]
    },
    {
     "name": "stderr",
     "output_type": "stream",
     "text": [
      "Processing videos:  25%|██████████████▍                                          | 337/1334 [40:14<10:55:32, 39.45s/it]"
     ]
    },
    {
     "name": "stdout",
     "output_type": "stream",
     "text": [
      "338/1334\n",
      "Using device: cuda\n",
      "Processing video: C:\\Users\\KK\\Desktop\\dfd\\dfdc_train_part_0\\gwsmeakcic.mp4\n",
      "Total frames in video: 300, FPS: 29.969\n"
     ]
    },
    {
     "name": "stderr",
     "output_type": "stream",
     "text": [
      "Processing videos:  25%|██████████████▍                                          | 338/1334 [40:48<10:23:48, 37.58s/it]"
     ]
    },
    {
     "name": "stdout",
     "output_type": "stream",
     "text": [
      "339/1334\n",
      "Using device: cuda\n",
      "Processing video: C:\\Users\\KK\\Desktop\\dfd\\dfdc_train_part_0\\gwzfugbidx.mp4\n",
      "Total frames in video: 300, FPS: 29.9686\n"
     ]
    },
    {
     "name": "stderr",
     "output_type": "stream",
     "text": [
      "Processing videos:  25%|██████████████▋                                           | 339/1334 [41:13<9:24:00, 34.01s/it]"
     ]
    },
    {
     "name": "stdout",
     "output_type": "stream",
     "text": [
      "340/1334\n",
      "Using device: cuda\n",
      "Processing video: C:\\Users\\KK\\Desktop\\dfd\\dfdc_train_part_0\\gxonqiyzpk.mp4\n",
      "Total frames in video: 300, FPS: 29.9691\n"
     ]
    },
    {
     "name": "stderr",
     "output_type": "stream",
     "text": [
      "Processing videos:  25%|██████████████▊                                           | 340/1334 [41:40<8:45:08, 31.70s/it]"
     ]
    },
    {
     "name": "stdout",
     "output_type": "stream",
     "text": [
      "341/1334\n",
      "Using device: cuda\n",
      "Processing video: C:\\Users\\KK\\Desktop\\dfd\\dfdc_train_part_0\\gxzdueambi.mp4\n",
      "Total frames in video: 300, FPS: 29.9688\n"
     ]
    },
    {
     "name": "stderr",
     "output_type": "stream",
     "text": [
      "Processing videos:  26%|██████████████▊                                           | 341/1334 [42:08<8:28:54, 30.75s/it]"
     ]
    },
    {
     "name": "stdout",
     "output_type": "stream",
     "text": [
      "342/1334\n",
      "Using device: cuda\n",
      "Processing video: C:\\Users\\KK\\Desktop\\dfd\\dfdc_train_part_0\\gyosvoeamf.mp4\n",
      "Total frames in video: 300, FPS: 29.9691\n"
     ]
    },
    {
     "name": "stderr",
     "output_type": "stream",
     "text": [
      "Processing videos:  26%|██████████████▊                                           | 342/1334 [42:39<8:26:42, 30.65s/it]"
     ]
    },
    {
     "name": "stdout",
     "output_type": "stream",
     "text": [
      "343/1334\n",
      "Using device: cuda\n",
      "Processing video: C:\\Users\\KK\\Desktop\\dfd\\dfdc_train_part_0\\gyrdgpiygb.mp4\n",
      "Total frames in video: 300, FPS: 29.969\n"
     ]
    },
    {
     "name": "stderr",
     "output_type": "stream",
     "text": [
      "Processing videos:  26%|██████████████▋                                          | 343/1334 [43:39<10:54:01, 39.60s/it]"
     ]
    },
    {
     "name": "stdout",
     "output_type": "stream",
     "text": [
      "344/1334\n",
      "Using device: cuda\n",
      "Processing video: C:\\Users\\KK\\Desktop\\dfd\\dfdc_train_part_0\\gzkggvloao.mp4\n",
      "Total frames in video: 300, FPS: 29.9687\n"
     ]
    },
    {
     "name": "stderr",
     "output_type": "stream",
     "text": [
      "Processing videos:  26%|██████████████▋                                          | 344/1334 [44:31<11:52:39, 43.19s/it]"
     ]
    },
    {
     "name": "stdout",
     "output_type": "stream",
     "text": [
      "345/1334\n",
      "Using device: cuda\n",
      "Processing video: C:\\Users\\KK\\Desktop\\dfd\\dfdc_train_part_0\\hasjjkoygr.mp4\n",
      "Total frames in video: 300, FPS: 29.9688\n"
     ]
    },
    {
     "name": "stderr",
     "output_type": "stream",
     "text": [
      "Processing videos:  26%|██████████████▋                                          | 345/1334 [44:56<10:22:46, 37.78s/it]"
     ]
    },
    {
     "name": "stdout",
     "output_type": "stream",
     "text": [
      "346/1334\n",
      "Using device: cuda\n",
      "Processing video: C:\\Users\\KK\\Desktop\\dfd\\dfdc_train_part_0\\haxnhfvqvs.mp4\n",
      "Total frames in video: 300, FPS: 29.9686\n",
      "No faces detected in frame 26\n",
      "No faces detected in frame 31\n",
      "No faces detected in frame 37\n",
      "No faces detected in frame 38\n",
      "No faces detected in frame 40\n",
      "No faces detected in frame 43\n",
      "No faces detected in frame 44\n"
     ]
    },
    {
     "name": "stderr",
     "output_type": "stream",
     "text": [
      "Processing videos:  26%|███████████████                                           | 346/1334 [45:24<9:32:34, 34.77s/it]"
     ]
    },
    {
     "name": "stdout",
     "output_type": "stream",
     "text": [
      "347/1334\n",
      "Using device: cuda\n",
      "Processing video: C:\\Users\\KK\\Desktop\\dfd\\dfdc_train_part_0\\hbdvyzpqny.mp4\n",
      "Total frames in video: 300, FPS: 29.9692\n"
     ]
    },
    {
     "name": "stderr",
     "output_type": "stream",
     "text": [
      "Processing videos:  26%|██████████████▊                                          | 347/1334 [46:08<10:18:39, 37.61s/it]"
     ]
    },
    {
     "name": "stdout",
     "output_type": "stream",
     "text": [
      "348/1334\n",
      "Using device: cuda\n",
      "Processing video: C:\\Users\\KK\\Desktop\\dfd\\dfdc_train_part_0\\hbtcuqhwyy.mp4\n",
      "Total frames in video: 300, FPS: 29.969\n"
     ]
    },
    {
     "name": "stderr",
     "output_type": "stream",
     "text": [
      "Processing videos:  26%|██████████████▊                                          | 348/1334 [46:42<10:01:56, 36.63s/it]"
     ]
    },
    {
     "name": "stdout",
     "output_type": "stream",
     "text": [
      "349/1334\n",
      "Using device: cuda\n",
      "Processing video: C:\\Users\\KK\\Desktop\\dfd\\dfdc_train_part_0\\hcanfkwivl.mp4\n",
      "Total frames in video: 300, FPS: 29.969\n"
     ]
    },
    {
     "name": "stderr",
     "output_type": "stream",
     "text": [
      "Processing videos:  26%|███████████████▏                                          | 349/1334 [47:15<9:41:46, 35.44s/it]"
     ]
    },
    {
     "name": "stdout",
     "output_type": "stream",
     "text": [
      "350/1334\n",
      "Using device: cuda\n",
      "Processing video: C:\\Users\\KK\\Desktop\\dfd\\dfdc_train_part_0\\hclsparpth.mp4\n",
      "Total frames in video: 300, FPS: 29.969\n"
     ]
    },
    {
     "name": "stderr",
     "output_type": "stream",
     "text": [
      "Processing videos:  26%|███████████████▏                                          | 350/1334 [47:49<9:34:13, 35.01s/it]"
     ]
    },
    {
     "name": "stdout",
     "output_type": "stream",
     "text": [
      "351/1334\n",
      "Using device: cuda\n",
      "Processing video: C:\\Users\\KK\\Desktop\\dfd\\dfdc_train_part_0\\hcqxrwzgxt.mp4\n",
      "Total frames in video: 300, FPS: 29.9685\n"
     ]
    },
    {
     "name": "stderr",
     "output_type": "stream",
     "text": [
      "Processing videos:  26%|███████████████▎                                          | 351/1334 [48:20<9:16:50, 33.99s/it]"
     ]
    },
    {
     "name": "stdout",
     "output_type": "stream",
     "text": [
      "352/1334\n",
      "Using device: cuda\n",
      "Processing video: C:\\Users\\KK\\Desktop\\dfd\\dfdc_train_part_0\\hdgfgvcoqk.mp4\n",
      "Total frames in video: 300, FPS: 29.9691\n"
     ]
    },
    {
     "name": "stderr",
     "output_type": "stream",
     "text": [
      "Processing videos:  26%|███████████████▎                                          | 352/1334 [48:45<8:29:31, 31.13s/it]"
     ]
    },
    {
     "name": "stdout",
     "output_type": "stream",
     "text": [
      "353/1334\n",
      "Using device: cuda\n",
      "Processing video: C:\\Users\\KK\\Desktop\\dfd\\dfdc_train_part_0\\hdytjaiglk.mp4\n",
      "Total frames in video: 300, FPS: 29.969\n"
     ]
    },
    {
     "name": "stderr",
     "output_type": "stream",
     "text": [
      "Processing videos:  26%|███████████████▎                                          | 353/1334 [49:11<8:06:38, 29.76s/it]"
     ]
    },
    {
     "name": "stdout",
     "output_type": "stream",
     "text": [
      "354/1334\n",
      "Using device: cuda\n",
      "Processing video: C:\\Users\\KK\\Desktop\\dfd\\dfdc_train_part_0\\hectzcuzdv.mp4\n",
      "Total frames in video: 300, FPS: 29.9688\n"
     ]
    },
    {
     "name": "stderr",
     "output_type": "stream",
     "text": [
      "Processing videos:  27%|███████████████▍                                          | 354/1334 [49:38<7:49:18, 28.73s/it]"
     ]
    },
    {
     "name": "stdout",
     "output_type": "stream",
     "text": [
      "355/1334\n",
      "Using device: cuda\n",
      "Processing video: C:\\Users\\KK\\Desktop\\dfd\\dfdc_train_part_0\\hefisnapds.mp4\n",
      "Total frames in video: 300, FPS: 29.9687\n"
     ]
    },
    {
     "name": "stderr",
     "output_type": "stream",
     "text": [
      "Processing videos:  27%|███████████████▍                                          | 355/1334 [50:30<9:45:27, 35.88s/it]"
     ]
    },
    {
     "name": "stdout",
     "output_type": "stream",
     "text": [
      "356/1334\n",
      "Using device: cuda\n",
      "Processing video: C:\\Users\\KK\\Desktop\\dfd\\dfdc_train_part_0\\heiyoojifp.mp4\n",
      "Total frames in video: 300, FPS: 29.9689\n"
     ]
    },
    {
     "name": "stderr",
     "output_type": "stream",
     "text": [
      "Processing videos:  27%|███████████████▍                                          | 356/1334 [51:00<9:15:02, 34.05s/it]"
     ]
    },
    {
     "name": "stdout",
     "output_type": "stream",
     "text": [
      "357/1334\n",
      "Using device: cuda\n",
      "Processing video: C:\\Users\\KK\\Desktop\\dfd\\dfdc_train_part_0\\hfeacozznh.mp4\n",
      "Total frames in video: 300, FPS: 29.969\n"
     ]
    },
    {
     "name": "stderr",
     "output_type": "stream",
     "text": [
      "Processing videos:  27%|███████████████▌                                          | 357/1334 [51:33<9:06:53, 33.59s/it]"
     ]
    },
    {
     "name": "stdout",
     "output_type": "stream",
     "text": [
      "358/1334\n",
      "Using device: cuda\n",
      "Processing video: C:\\Users\\KK\\Desktop\\dfd\\dfdc_train_part_0\\hgjdosshpt.mp4\n",
      "Total frames in video: 300, FPS: 29.969\n"
     ]
    },
    {
     "name": "stderr",
     "output_type": "stream",
     "text": [
      "Processing videos:  27%|███████████████▌                                          | 358/1334 [52:04<8:55:01, 32.89s/it]"
     ]
    },
    {
     "name": "stdout",
     "output_type": "stream",
     "text": [
      "359/1334\n",
      "Using device: cuda\n",
      "Processing video: C:\\Users\\KK\\Desktop\\dfd\\dfdc_train_part_0\\hhddxuhorq.mp4\n",
      "Total frames in video: 300, FPS: 29.969\n"
     ]
    },
    {
     "name": "stderr",
     "output_type": "stream",
     "text": [
      "Processing videos:  27%|███████████████▎                                         | 359/1334 [53:01<10:50:40, 40.04s/it]"
     ]
    },
    {
     "name": "stdout",
     "output_type": "stream",
     "text": [
      "360/1334\n",
      "Using device: cuda\n",
      "Processing video: C:\\Users\\KK\\Desktop\\dfd\\dfdc_train_part_0\\hhyxweyjlt.mp4\n",
      "Total frames in video: 300, FPS: 29.9689\n"
     ]
    },
    {
     "name": "stderr",
     "output_type": "stream",
     "text": [
      "Processing videos:  27%|███████████████▋                                          | 360/1334 [53:29<9:53:14, 36.54s/it]"
     ]
    },
    {
     "name": "stdout",
     "output_type": "stream",
     "text": [
      "361/1334\n",
      "Using device: cuda\n",
      "Processing video: C:\\Users\\KK\\Desktop\\dfd\\dfdc_train_part_0\\hicjuubiau.mp4\n",
      "Total frames in video: 300, FPS: 29.969\n"
     ]
    },
    {
     "name": "stderr",
     "output_type": "stream",
     "text": [
      "Processing videos:  27%|███████████████▋                                          | 361/1334 [54:02<9:37:33, 35.61s/it]"
     ]
    },
    {
     "name": "stdout",
     "output_type": "stream",
     "text": [
      "362/1334\n",
      "Using device: cuda\n",
      "Processing video: C:\\Users\\KK\\Desktop\\dfd\\dfdc_train_part_0\\hitfycdavv.mp4\n",
      "Total frames in video: 300, FPS: 29.9688\n"
     ]
    },
    {
     "name": "stderr",
     "output_type": "stream",
     "text": [
      "Processing videos:  27%|███████████████▋                                          | 362/1334 [54:27<8:42:59, 32.28s/it]"
     ]
    },
    {
     "name": "stdout",
     "output_type": "stream",
     "text": [
      "363/1334\n",
      "Using device: cuda\n",
      "Processing video: C:\\Users\\KK\\Desktop\\dfd\\dfdc_train_part_0\\hivnldfvyl.mp4\n",
      "Total frames in video: 300, FPS: 29.9691\n"
     ]
    },
    {
     "name": "stderr",
     "output_type": "stream",
     "text": [
      "Processing videos:  27%|███████████████▊                                          | 363/1334 [54:52<8:05:07, 29.98s/it]"
     ]
    },
    {
     "name": "stdout",
     "output_type": "stream",
     "text": [
      "364/1334\n",
      "Using device: cuda\n",
      "Processing video: C:\\Users\\KK\\Desktop\\dfd\\dfdc_train_part_0\\hjddjiqcpb.mp4\n",
      "Total frames in video: 300, FPS: 29.9689\n"
     ]
    },
    {
     "name": "stderr",
     "output_type": "stream",
     "text": [
      "Processing videos:  27%|███████████████▊                                          | 364/1334 [55:18<7:48:11, 28.96s/it]"
     ]
    },
    {
     "name": "stdout",
     "output_type": "stream",
     "text": [
      "365/1334\n",
      "Using device: cuda\n",
      "Processing video: C:\\Users\\KK\\Desktop\\dfd\\dfdc_train_part_0\\hjxckindzx.mp4\n",
      "Total frames in video: 300, FPS: 29.969\n"
     ]
    },
    {
     "name": "stderr",
     "output_type": "stream",
     "text": [
      "Processing videos:  27%|███████████████▊                                          | 365/1334 [55:49<7:56:52, 29.53s/it]"
     ]
    },
    {
     "name": "stdout",
     "output_type": "stream",
     "text": [
      "366/1334\n",
      "Using device: cuda\n",
      "Processing video: C:\\Users\\KK\\Desktop\\dfd\\dfdc_train_part_0\\hkvcbcfulf.mp4\n",
      "Total frames in video: 300, FPS: 29.9686\n",
      "No faces detected in frame 0\n",
      "No faces detected in frame 2\n",
      "No faces detected in frame 3\n",
      "No faces detected in frame 10\n",
      "No faces detected in frame 11\n",
      "No faces detected in frame 12\n",
      "No faces detected in frame 13\n",
      "No faces detected in frame 16\n",
      "No faces detected in frame 19\n",
      "No faces detected in frame 20\n",
      "No faces detected in frame 22\n",
      "No faces detected in frame 24\n",
      "No faces detected in frame 29\n",
      "No faces detected in frame 32\n",
      "No faces detected in frame 33\n",
      "No faces detected in frame 34\n",
      "No faces detected in frame 35\n",
      "No faces detected in frame 36\n",
      "No faces detected in frame 37\n",
      "No faces detected in frame 38\n",
      "No faces detected in frame 39\n",
      "No faces detected in frame 40\n",
      "No faces detected in frame 44\n"
     ]
    },
    {
     "name": "stderr",
     "output_type": "stream",
     "text": [
      "Processing videos:  27%|███████████████▉                                          | 366/1334 [56:13<7:31:27, 27.98s/it]"
     ]
    },
    {
     "name": "stdout",
     "output_type": "stream",
     "text": [
      "367/1334\n",
      "Using device: cuda\n",
      "Processing video: C:\\Users\\KK\\Desktop\\dfd\\dfdc_train_part_0\\hldhchyhfg.mp4\n",
      "Total frames in video: 300, FPS: 29.9688\n"
     ]
    },
    {
     "name": "stderr",
     "output_type": "stream",
     "text": [
      "Processing videos:  28%|███████████████▉                                          | 367/1334 [56:37<7:10:21, 26.70s/it]"
     ]
    },
    {
     "name": "stdout",
     "output_type": "stream",
     "text": [
      "No faces detected in frame 149\n",
      "368/1334\n",
      "Using device: cuda\n",
      "Processing video: C:\\Users\\KK\\Desktop\\dfd\\dfdc_train_part_0\\hnalkvbcim.mp4\n",
      "Total frames in video: 300, FPS: 29.969\n"
     ]
    },
    {
     "name": "stderr",
     "output_type": "stream",
     "text": [
      "Processing videos:  28%|████████████████                                          | 368/1334 [57:07<7:25:37, 27.68s/it]"
     ]
    },
    {
     "name": "stdout",
     "output_type": "stream",
     "text": [
      "369/1334\n",
      "Using device: cuda\n",
      "Processing video: C:\\Users\\KK\\Desktop\\dfd\\dfdc_train_part_0\\horutnradk.mp4\n",
      "Total frames in video: 300, FPS: 29.969\n"
     ]
    },
    {
     "name": "stderr",
     "output_type": "stream",
     "text": [
      "Processing videos:  28%|████████████████                                          | 368/1334 [57:34<2:31:09,  9.39s/it]\n"
     ]
    },
    {
     "ename": "KeyboardInterrupt",
     "evalue": "",
     "output_type": "error",
     "traceback": [
      "\u001b[1;31m---------------------------------------------------------------------------\u001b[0m",
      "\u001b[1;31mKeyboardInterrupt\u001b[0m                         Traceback (most recent call last)",
      "Cell \u001b[1;32mIn[5], line 3\u001b[0m\n\u001b[0;32m      1\u001b[0m input_video_dir \u001b[38;5;241m=\u001b[39m \u001b[38;5;124mr\u001b[39m\u001b[38;5;124m'\u001b[39m\u001b[38;5;124mC:\u001b[39m\u001b[38;5;124m\\\u001b[39m\u001b[38;5;124mUsers\u001b[39m\u001b[38;5;124m\\\u001b[39m\u001b[38;5;124mKK\u001b[39m\u001b[38;5;124m\\\u001b[39m\u001b[38;5;124mDesktop\u001b[39m\u001b[38;5;124m\\\u001b[39m\u001b[38;5;124mdfd\u001b[39m\u001b[38;5;124m\\\u001b[39m\u001b[38;5;124mdfdc_train_part_0\u001b[39m\u001b[38;5;124m'\u001b[39m  \n\u001b[0;32m      2\u001b[0m output_video_dir \u001b[38;5;241m=\u001b[39m \u001b[38;5;124mr\u001b[39m\u001b[38;5;124m'\u001b[39m\u001b[38;5;124mC:\u001b[39m\u001b[38;5;124m\\\u001b[39m\u001b[38;5;124mUsers\u001b[39m\u001b[38;5;124m\\\u001b[39m\u001b[38;5;124mKK\u001b[39m\u001b[38;5;124m\\\u001b[39m\u001b[38;5;124mDesktop\u001b[39m\u001b[38;5;124m\\\u001b[39m\u001b[38;5;124mdfd\u001b[39m\u001b[38;5;124m\\\u001b[39m\u001b[38;5;124mprocessed\u001b[39m\u001b[38;5;124m'\u001b[39m  \n\u001b[1;32m----> 3\u001b[0m \u001b[43mpreprocess_dataset\u001b[49m\u001b[43m(\u001b[49m\u001b[43minput_video_dir\u001b[49m\u001b[43m,\u001b[49m\u001b[43m \u001b[49m\u001b[43moutput_video_dir\u001b[49m\u001b[43m)\u001b[49m\n",
      "Cell \u001b[1;32mIn[3], line 19\u001b[0m, in \u001b[0;36mpreprocess_dataset\u001b[1;34m(video_dir, output_dir, max_frames)\u001b[0m\n\u001b[0;32m     16\u001b[0m     \u001b[38;5;28;01mcontinue\u001b[39;00m\n\u001b[0;32m     18\u001b[0m \u001b[38;5;66;03m# Process and save face-cropped video\u001b[39;00m\n\u001b[1;32m---> 19\u001b[0m \u001b[43mcreate_face_video\u001b[49m\u001b[43m(\u001b[49m\u001b[43mvideo_path\u001b[49m\u001b[43m,\u001b[49m\u001b[43m \u001b[49m\u001b[43moutput_video_path\u001b[49m\u001b[43m,\u001b[49m\u001b[43m \u001b[49m\u001b[43mmax_frames\u001b[49m\u001b[38;5;241;43m=\u001b[39;49m\u001b[43mmax_frames\u001b[49m\u001b[43m)\u001b[49m\n",
      "Cell \u001b[1;32mIn[2], line 45\u001b[0m, in \u001b[0;36mcreate_face_video\u001b[1;34m(input_video_path, output_video_path, max_frames)\u001b[0m\n\u001b[0;32m     42\u001b[0m img \u001b[38;5;241m=\u001b[39m Image\u001b[38;5;241m.\u001b[39mfromarray(rgb_frame)\n\u001b[0;32m     44\u001b[0m \u001b[38;5;66;03m# Detect faces\u001b[39;00m\n\u001b[1;32m---> 45\u001b[0m boxes, _ \u001b[38;5;241m=\u001b[39m \u001b[43mmtcnn\u001b[49m\u001b[38;5;241;43m.\u001b[39;49m\u001b[43mdetect\u001b[49m\u001b[43m(\u001b[49m\u001b[43mimg\u001b[49m\u001b[43m)\u001b[49m\n\u001b[0;32m     47\u001b[0m \u001b[38;5;28;01mif\u001b[39;00m boxes \u001b[38;5;129;01mis\u001b[39;00m \u001b[38;5;28;01mNone\u001b[39;00m:\n\u001b[0;32m     48\u001b[0m     \u001b[38;5;28mprint\u001b[39m(\u001b[38;5;124mf\u001b[39m\u001b[38;5;124m\"\u001b[39m\u001b[38;5;124mNo faces detected in frame \u001b[39m\u001b[38;5;132;01m{\u001b[39;00mframe_idx\u001b[38;5;132;01m}\u001b[39;00m\u001b[38;5;124m\"\u001b[39m)\n",
      "File \u001b[1;32m~\\AppData\\Roaming\\Python\\Python312\\site-packages\\facenet_pytorch\\models\\mtcnn.py:313\u001b[0m, in \u001b[0;36mMTCNN.detect\u001b[1;34m(self, img, landmarks)\u001b[0m\n\u001b[0;32m    273\u001b[0m \u001b[38;5;250m\u001b[39m\u001b[38;5;124;03m\"\"\"Detect all faces in PIL image and return bounding boxes and optional facial landmarks.\u001b[39;00m\n\u001b[0;32m    274\u001b[0m \n\u001b[0;32m    275\u001b[0m \u001b[38;5;124;03mThis method is used by the forward method and is also useful for face detection tasks\u001b[39;00m\n\u001b[1;32m   (...)\u001b[0m\n\u001b[0;32m    309\u001b[0m \u001b[38;5;124;03m>>> img_draw.save('annotated_faces.png')\u001b[39;00m\n\u001b[0;32m    310\u001b[0m \u001b[38;5;124;03m\"\"\"\u001b[39;00m\n\u001b[0;32m    312\u001b[0m \u001b[38;5;28;01mwith\u001b[39;00m torch\u001b[38;5;241m.\u001b[39mno_grad():\n\u001b[1;32m--> 313\u001b[0m     batch_boxes, batch_points \u001b[38;5;241m=\u001b[39m \u001b[43mdetect_face\u001b[49m\u001b[43m(\u001b[49m\n\u001b[0;32m    314\u001b[0m \u001b[43m        \u001b[49m\u001b[43mimg\u001b[49m\u001b[43m,\u001b[49m\u001b[43m \u001b[49m\u001b[38;5;28;43mself\u001b[39;49m\u001b[38;5;241;43m.\u001b[39;49m\u001b[43mmin_face_size\u001b[49m\u001b[43m,\u001b[49m\n\u001b[0;32m    315\u001b[0m \u001b[43m        \u001b[49m\u001b[38;5;28;43mself\u001b[39;49m\u001b[38;5;241;43m.\u001b[39;49m\u001b[43mpnet\u001b[49m\u001b[43m,\u001b[49m\u001b[43m \u001b[49m\u001b[38;5;28;43mself\u001b[39;49m\u001b[38;5;241;43m.\u001b[39;49m\u001b[43mrnet\u001b[49m\u001b[43m,\u001b[49m\u001b[43m \u001b[49m\u001b[38;5;28;43mself\u001b[39;49m\u001b[38;5;241;43m.\u001b[39;49m\u001b[43monet\u001b[49m\u001b[43m,\u001b[49m\n\u001b[0;32m    316\u001b[0m \u001b[43m        \u001b[49m\u001b[38;5;28;43mself\u001b[39;49m\u001b[38;5;241;43m.\u001b[39;49m\u001b[43mthresholds\u001b[49m\u001b[43m,\u001b[49m\u001b[43m \u001b[49m\u001b[38;5;28;43mself\u001b[39;49m\u001b[38;5;241;43m.\u001b[39;49m\u001b[43mfactor\u001b[49m\u001b[43m,\u001b[49m\n\u001b[0;32m    317\u001b[0m \u001b[43m        \u001b[49m\u001b[38;5;28;43mself\u001b[39;49m\u001b[38;5;241;43m.\u001b[39;49m\u001b[43mdevice\u001b[49m\n\u001b[0;32m    318\u001b[0m \u001b[43m    \u001b[49m\u001b[43m)\u001b[49m\n\u001b[0;32m    320\u001b[0m boxes, probs, points \u001b[38;5;241m=\u001b[39m [], [], []\n\u001b[0;32m    321\u001b[0m \u001b[38;5;28;01mfor\u001b[39;00m box, point \u001b[38;5;129;01min\u001b[39;00m \u001b[38;5;28mzip\u001b[39m(batch_boxes, batch_points):\n",
      "File \u001b[1;32m~\\AppData\\Roaming\\Python\\Python312\\site-packages\\facenet_pytorch\\models\\utils\\detect_face.py:112\u001b[0m, in \u001b[0;36mdetect_face\u001b[1;34m(imgs, minsize, pnet, rnet, onet, threshold, factor, device)\u001b[0m\n\u001b[0;32m    110\u001b[0m     \u001b[38;5;28;01mif\u001b[39;00m ey[k] \u001b[38;5;241m>\u001b[39m (y[k] \u001b[38;5;241m-\u001b[39m \u001b[38;5;241m1\u001b[39m) \u001b[38;5;129;01mand\u001b[39;00m ex[k] \u001b[38;5;241m>\u001b[39m (x[k] \u001b[38;5;241m-\u001b[39m \u001b[38;5;241m1\u001b[39m):\n\u001b[0;32m    111\u001b[0m         img_k \u001b[38;5;241m=\u001b[39m imgs[image_inds[k], :, (y[k] \u001b[38;5;241m-\u001b[39m \u001b[38;5;241m1\u001b[39m):ey[k], (x[k] \u001b[38;5;241m-\u001b[39m \u001b[38;5;241m1\u001b[39m):ex[k]]\u001b[38;5;241m.\u001b[39munsqueeze(\u001b[38;5;241m0\u001b[39m)\n\u001b[1;32m--> 112\u001b[0m         im_data\u001b[38;5;241m.\u001b[39mappend(\u001b[43mimresample\u001b[49m\u001b[43m(\u001b[49m\u001b[43mimg_k\u001b[49m\u001b[43m,\u001b[49m\u001b[43m \u001b[49m\u001b[43m(\u001b[49m\u001b[38;5;241;43m24\u001b[39;49m\u001b[43m,\u001b[49m\u001b[43m \u001b[49m\u001b[38;5;241;43m24\u001b[39;49m\u001b[43m)\u001b[49m\u001b[43m)\u001b[49m)\n\u001b[0;32m    113\u001b[0m im_data \u001b[38;5;241m=\u001b[39m torch\u001b[38;5;241m.\u001b[39mcat(im_data, dim\u001b[38;5;241m=\u001b[39m\u001b[38;5;241m0\u001b[39m)\n\u001b[0;32m    114\u001b[0m im_data \u001b[38;5;241m=\u001b[39m (im_data \u001b[38;5;241m-\u001b[39m \u001b[38;5;241m127.5\u001b[39m) \u001b[38;5;241m*\u001b[39m \u001b[38;5;241m0.0078125\u001b[39m\n",
      "File \u001b[1;32m~\\AppData\\Roaming\\Python\\Python312\\site-packages\\facenet_pytorch\\models\\utils\\detect_face.py:305\u001b[0m, in \u001b[0;36mimresample\u001b[1;34m(img, sz)\u001b[0m\n\u001b[0;32m    304\u001b[0m \u001b[38;5;28;01mdef\u001b[39;00m \u001b[38;5;21mimresample\u001b[39m(img, sz):\n\u001b[1;32m--> 305\u001b[0m     im_data \u001b[38;5;241m=\u001b[39m \u001b[43minterpolate\u001b[49m\u001b[43m(\u001b[49m\u001b[43mimg\u001b[49m\u001b[43m,\u001b[49m\u001b[43m \u001b[49m\u001b[43msize\u001b[49m\u001b[38;5;241;43m=\u001b[39;49m\u001b[43msz\u001b[49m\u001b[43m,\u001b[49m\u001b[43m \u001b[49m\u001b[43mmode\u001b[49m\u001b[38;5;241;43m=\u001b[39;49m\u001b[38;5;124;43m\"\u001b[39;49m\u001b[38;5;124;43marea\u001b[39;49m\u001b[38;5;124;43m\"\u001b[39;49m\u001b[43m)\u001b[49m\n\u001b[0;32m    306\u001b[0m     \u001b[38;5;28;01mreturn\u001b[39;00m im_data\n",
      "File \u001b[1;32m~\\AppData\\Roaming\\Python\\Python312\\site-packages\\torch\\nn\\functional.py:4552\u001b[0m, in \u001b[0;36minterpolate\u001b[1;34m(input, size, scale_factor, mode, align_corners, recompute_scale_factor, antialias)\u001b[0m\n\u001b[0;32m   4550\u001b[0m \u001b[38;5;28;01mif\u001b[39;00m \u001b[38;5;28minput\u001b[39m\u001b[38;5;241m.\u001b[39mdim() \u001b[38;5;241m==\u001b[39m \u001b[38;5;241m4\u001b[39m \u001b[38;5;129;01mand\u001b[39;00m mode \u001b[38;5;241m==\u001b[39m \u001b[38;5;124m\"\u001b[39m\u001b[38;5;124marea\u001b[39m\u001b[38;5;124m\"\u001b[39m:\n\u001b[0;32m   4551\u001b[0m     \u001b[38;5;28;01massert\u001b[39;00m output_size \u001b[38;5;129;01mis\u001b[39;00m \u001b[38;5;129;01mnot\u001b[39;00m \u001b[38;5;28;01mNone\u001b[39;00m\n\u001b[1;32m-> 4552\u001b[0m     \u001b[38;5;28;01mreturn\u001b[39;00m \u001b[43madaptive_avg_pool2d\u001b[49m\u001b[43m(\u001b[49m\u001b[38;5;28;43minput\u001b[39;49m\u001b[43m,\u001b[49m\u001b[43m \u001b[49m\u001b[43moutput_size\u001b[49m\u001b[43m)\u001b[49m\n\u001b[0;32m   4553\u001b[0m \u001b[38;5;28;01mif\u001b[39;00m \u001b[38;5;28minput\u001b[39m\u001b[38;5;241m.\u001b[39mdim() \u001b[38;5;241m==\u001b[39m \u001b[38;5;241m5\u001b[39m \u001b[38;5;129;01mand\u001b[39;00m mode \u001b[38;5;241m==\u001b[39m \u001b[38;5;124m\"\u001b[39m\u001b[38;5;124marea\u001b[39m\u001b[38;5;124m\"\u001b[39m:\n\u001b[0;32m   4554\u001b[0m     \u001b[38;5;28;01massert\u001b[39;00m output_size \u001b[38;5;129;01mis\u001b[39;00m \u001b[38;5;129;01mnot\u001b[39;00m \u001b[38;5;28;01mNone\u001b[39;00m\n",
      "File \u001b[1;32m~\\AppData\\Roaming\\Python\\Python312\\site-packages\\torch\\nn\\functional.py:1382\u001b[0m, in \u001b[0;36madaptive_avg_pool2d\u001b[1;34m(input, output_size)\u001b[0m\n\u001b[0;32m   1380\u001b[0m     \u001b[38;5;28;01mreturn\u001b[39;00m handle_torch_function(adaptive_avg_pool2d, (\u001b[38;5;28minput\u001b[39m,), \u001b[38;5;28minput\u001b[39m, output_size)\n\u001b[0;32m   1381\u001b[0m _output_size \u001b[38;5;241m=\u001b[39m _list_with_default(output_size, \u001b[38;5;28minput\u001b[39m\u001b[38;5;241m.\u001b[39msize())\n\u001b[1;32m-> 1382\u001b[0m \u001b[38;5;28;01mreturn\u001b[39;00m \u001b[43mtorch\u001b[49m\u001b[38;5;241;43m.\u001b[39;49m\u001b[43m_C\u001b[49m\u001b[38;5;241;43m.\u001b[39;49m\u001b[43m_nn\u001b[49m\u001b[38;5;241;43m.\u001b[39;49m\u001b[43madaptive_avg_pool2d\u001b[49m\u001b[43m(\u001b[49m\u001b[38;5;28;43minput\u001b[39;49m\u001b[43m,\u001b[49m\u001b[43m \u001b[49m\u001b[43m_output_size\u001b[49m\u001b[43m)\u001b[49m\n",
      "\u001b[1;31mKeyboardInterrupt\u001b[0m: "
     ]
    }
   ],
   "source": [
    "input_video_dir = r'C:\\Users\\KK\\Desktop\\dfd\\dfdc_train_part_5'  \n",
    "output_video_dir = r'C:\\Users\\KK\\Desktop\\dfd\\data\\CroppedFaces'  \n",
    "preprocess_dataset(input_video_dir, output_video_dir)"
   ]
  },
  {
   "cell_type": "code",
   "execution_count": null,
   "id": "0f1462d3-a7be-4cb6-9000-d43f485badc2",
   "metadata": {},
   "outputs": [],
   "source": []
  }
 ],
 "metadata": {
  "kernelspec": {
   "display_name": "Python 3 (ipykernel)",
   "language": "python",
   "name": "python3"
  },
  "language_info": {
   "codemirror_mode": {
    "name": "ipython",
    "version": 3
   },
   "file_extension": ".py",
   "mimetype": "text/x-python",
   "name": "python",
   "nbconvert_exporter": "python",
   "pygments_lexer": "ipython3",
   "version": "3.12.0"
  }
 },
 "nbformat": 4,
 "nbformat_minor": 5
}
