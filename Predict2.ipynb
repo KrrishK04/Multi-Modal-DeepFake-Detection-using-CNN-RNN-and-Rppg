{
 "cells": [
  {
   "cell_type": "code",
   "execution_count": 1,
   "metadata": {
    "colab": {},
    "colab_type": "code",
    "id": "C3r-9rMc1DmO"
   },
   "outputs": [],
   "source": [
    "import torch\n",
    "from torch.autograd import Variable\n",
    "import time\n",
    "import os\n",
    "import sys\n",
    "import torchvision\n",
    "from torch import nn\n",
    "from torchvision import models\n",
    "from torchvision import transforms\n",
    "from torch.utils.data import DataLoader\n",
    "from torch.utils.data.dataset import Dataset\n",
    "import numpy as np\n",
    "import cv2\n",
    "import matplotlib.pyplot as plt\n",
    "import face_recognition"
   ]
  },
  {
   "cell_type": "code",
   "execution_count": 2,
   "metadata": {},
   "outputs": [
    {
     "data": {
      "text/plain": [
       "True"
      ]
     },
     "execution_count": 2,
     "metadata": {},
     "output_type": "execute_result"
    }
   ],
   "source": [
    "import torch\n",
    "torch.cuda.is_available()"
   ]
  },
  {
   "cell_type": "code",
   "execution_count": 3,
   "metadata": {},
   "outputs": [
    {
     "name": "stdout",
     "output_type": "stream",
     "text": [
      "2.5.1+cu124\n"
     ]
    }
   ],
   "source": [
    "print(torch.__version__)"
   ]
  },
  {
   "cell_type": "code",
   "execution_count": 4,
   "metadata": {},
   "outputs": [
    {
     "name": "stdout",
     "output_type": "stream",
     "text": [
      "C:\\Users\\KK\\Desktop\\dfd\\test\\metadata.csv\n",
      "C:\\Users\\KK\\Desktop\\dfd\\test\\metadata.json\n",
      "              URI label original           split\n",
      "0  noagmcpxfb.mp4  FAKE    train  dgtdgrzifi.mp4\n",
      "1  alzbizkswy.mp4  REAL    train             NaN\n",
      "2  xcmkbpzfzw.mp4  FAKE    train  aoqzxlwvmi.mp4\n",
      "3  uywdjgfgqr.mp4  FAKE    train  oupjhtodai.mp4\n",
      "4  fbqwomdehr.mp4  FAKE    train  xtixietgjp.mp4\n"
     ]
    }
   ],
   "source": [
    "import pandas as pd\n",
    "\n",
    "path_json = r'C:\\Users\\KK\\Desktop\\dfd\\test\\metadata.json'\n",
    "path_csv = r'C:\\Users\\KK\\Desktop\\dfd\\test\\metadata.csv'\n",
    "print(path_csv)\n",
    "print(path_json)\n",
    "read_json = pd.read_json(path_json)\n",
    "df = pd.DataFrame(read_json)\n",
    "df_2 = pd.DataFrame(df.transpose())\n",
    "df_2.to_csv(path_csv)\n",
    "read_csv = pd.read_csv(path_csv)\n",
    "read_csv.columns = [\"URI\",\"label\",\"original\",\"split\"]\n",
    "read_csv.to_csv(path_csv,index=False)\n",
    "print(read_csv.head(5))\n",
    "\n"
   ]
  },
  {
   "cell_type": "code",
   "execution_count": 5,
   "metadata": {
    "colab": {},
    "colab_type": "code",
    "id": "g1G0IoVy2Pc7"
   },
   "outputs": [],
   "source": [
    "from torch import nn\n",
    "from torchvision import models\n",
    "class Model(nn.Module):\n",
    "    def __init__(self, num_classes,latent_dim= 2048, lstm_layers=1 , hidden_dim = 2048, bidirectional = False):\n",
    "        super(Model, self).__init__()\n",
    "        model = models.resnext50_32x4d(pretrained = True)\n",
    "        self.model = nn.Sequential(*list(model.children())[:-2])\n",
    "        self.lstm = nn.LSTM(latent_dim,hidden_dim, lstm_layers,  bidirectional)\n",
    "        self.relu = nn.LeakyReLU()\n",
    "        self.dp = nn.Dropout(0.4)\n",
    "        self.linear1 = nn.Linear(2048,num_classes)\n",
    "        self.avgpool = nn.AdaptiveAvgPool2d(1)\n",
    "    def forward(self, x):\n",
    "        batch_size,seq_length, c, h, w = x.shape\n",
    "        x = x.view(batch_size * seq_length, c, h, w)\n",
    "        fmap = self.model(x)\n",
    "        x = self.avgpool(fmap)\n",
    "        x = x.view(batch_size,seq_length,2048)\n",
    "        x_lstm,_ = self.lstm(x,None)\n",
    "        return fmap,self.dp(self.linear1(x_lstm[:,-1,:]))"
   ]
  },
  {
   "cell_type": "code",
   "execution_count": 6,
   "metadata": {
    "colab": {},
    "colab_type": "code",
    "id": "avpp16KLze7T"
   },
   "outputs": [],
   "source": [
    "im_size = 112\n",
    "mean=[0.485, 0.456, 0.406]\n",
    "std=[0.229, 0.224, 0.225]\n",
    "sm = nn.Softmax()\n",
    "inv_normalize =  transforms.Normalize(mean=-1*np.divide(mean,std),std=np.divide([1,1,1],std))\n",
    "def im_convert(tensor):\n",
    "    \"\"\" Display a tensor as an image. \"\"\"\n",
    "    image = tensor.to(\"cpu\").clone().detach()\n",
    "    image = image.squeeze()\n",
    "    image = inv_normalize(image)\n",
    "    image = image.numpy()\n",
    "    image = image.transpose(1,2,0)\n",
    "    image = image.clip(0, 1)\n",
    "    cv2.imwrite('./2.png',image*255)\n",
    "    return image\n",
    "\n",
    "def predict(model,img,path = './'):\n",
    "  fmap,logits = model(img.to('cuda'))\n",
    "  params = list(model.parameters())\n",
    "  weight_softmax = model.linear1.weight.detach().cpu().numpy()\n",
    "  logits = sm(logits)\n",
    "  _,prediction = torch.max(logits,1)\n",
    "  confidence = logits[:,int(prediction.item())].item()*100\n",
    "  print('confidence of prediction:',logits[:,int(prediction.item())].item()*100)\n",
    "  idx = np.argmax(logits.detach().cpu().numpy())\n",
    "  bz, nc, h, w = fmap.shape\n",
    "  out = np.dot(fmap[-1].detach().cpu().numpy().reshape((nc, h*w)).T,weight_softmax[idx,:].T)\n",
    "  predict = out.reshape(h,w)\n",
    "  predict = predict - np.min(predict)\n",
    "  predict_img = predict / np.max(predict)\n",
    "  predict_img = np.uint8(255*predict_img)\n",
    "  out = cv2.resize(predict_img, (im_size,im_size))\n",
    "  heatmap = cv2.applyColorMap(out, cv2.COLORMAP_JET)\n",
    "  img = im_convert(img[:,-1,:,:,:])\n",
    "  result = heatmap * 0.5 + img*0.8*255\n",
    "  cv2.imwrite('/content/1.png',result)\n",
    "  result1 = heatmap * 0.5/255 + img*0.8\n",
    "  r,g,b = cv2.split(result1)\n",
    "  result1 = cv2.merge((r,g,b))\n",
    "  plt.imshow(result1)\n",
    "  plt.show()\n",
    "  return [int(prediction.item()),confidence]\n"
   ]
  },
  {
   "cell_type": "code",
   "execution_count": 7,
   "metadata": {
    "colab": {},
    "colab_type": "code",
    "id": "asSbpP8fzlFj"
   },
   "outputs": [],
   "source": [
    "import pandas as pd\n",
    "\n",
    "class validation_dataset(Dataset):\n",
    "    def __init__(self, video_names, csv_path, sequence_length=60, transform=None):\n",
    "        self.video_names = video_names\n",
    "        self.transform = transform\n",
    "        self.count = sequence_length\n",
    "        \n",
    "        # Read CSV for original labels\n",
    "        self.labels_df = pd.read_csv(csv_path)\n",
    "        self.labels_dict = dict(zip(self.labels_df[\"URI\"], self.labels_df[\"label\"]))\n",
    "    \n",
    "    def __len__(self):\n",
    "        return len(self.video_names)\n",
    "    \n",
    "    def __getitem__(self, idx):\n",
    "        video_path = self.video_names[idx]\n",
    "        frames = []\n",
    "        a = int(100 / self.count)\n",
    "        first_frame = np.random.randint(0, a)\n",
    "        \n",
    "        for i, frame in enumerate(self.frame_extract(video_path)):\n",
    "            faces = face_recognition.face_locations(frame)\n",
    "            try:\n",
    "                top, right, bottom, left = faces[0]\n",
    "                frame = frame[top:bottom, left:right, :]\n",
    "            except:\n",
    "                pass\n",
    "            frames.append(self.transform(frame))\n",
    "            if len(frames) == self.count:\n",
    "                break\n",
    "        \n",
    "        frames = torch.stack(frames)\n",
    "        frames = frames[:self.count]\n",
    "        \n",
    "        # Get original label from video filename\n",
    "        video_name = video_path.split(\"\\\\\")[-1]  # Assuming the filename is the last part of the path\n",
    "        label = self.labels_dict.get(video_name, None)\n",
    "        \n",
    "        return frames.unsqueeze(0), label  # Return frames and the label\n",
    "    \n",
    "    def frame_extract(self, path):\n",
    "        vidObj = cv2.VideoCapture(path)\n",
    "        success = 1\n",
    "        while success:\n",
    "            success, image = vidObj.read()\n",
    "            if success:\n",
    "                yield image\n",
    "\n",
    "def im_plot(tensor):\n",
    "    image = tensor.cpu().numpy().transpose(1,2,0)\n",
    "    b,g,r = cv2.split(image)\n",
    "    image = cv2.merge((r,g,b))\n",
    "    image = image*[0.22803, 0.22145, 0.216989] +  [0.43216, 0.394666, 0.37645]\n",
    "    image = image*255.0\n",
    "    plt.imshow(image.astype(int))\n",
    "    plt.show()"
   ]
  },
  {
   "cell_type": "code",
   "execution_count": 15,
   "metadata": {},
   "outputs": [
    {
     "name": "stderr",
     "output_type": "stream",
     "text": [
      "C:\\Users\\KK\\AppData\\Roaming\\Python\\Python312\\site-packages\\torchvision\\models\\_utils.py:208: UserWarning: The parameter 'pretrained' is deprecated since 0.13 and may be removed in the future, please use 'weights' instead.\n",
      "  warnings.warn(\n",
      "C:\\Users\\KK\\AppData\\Roaming\\Python\\Python312\\site-packages\\torchvision\\models\\_utils.py:223: UserWarning: Arguments other than a weight enum or `None` for 'weights' are deprecated since 0.13 and may be removed in the future. The current behavior is equivalent to passing `weights=ResNeXt50_32X4D_Weights.IMAGENET1K_V1`. You can also use `weights=ResNeXt50_32X4D_Weights.DEFAULT` to get the most up-to-date weights.\n",
      "  warnings.warn(msg)\n",
      "C:\\Users\\KK\\AppData\\Local\\Temp\\ipykernel_10040\\3895979561.py:30: FutureWarning: You are using `torch.load` with `weights_only=False` (the current default value), which uses the default pickle module implicitly. It is possible to construct malicious pickle data which will execute arbitrary code during unpickling (See https://github.com/pytorch/pytorch/blob/main/SECURITY.md#untrusted-models for more details). In a future release, the default value for `weights_only` will be flipped to `True`. This limits the functions that could be executed during unpickling. Arbitrary objects will no longer be allowed to be loaded via this mode unless they are explicitly allowlisted by the user via `torch.serialization.add_safe_globals`. We recommend you start setting `weights_only=True` for any use case where you don't have full control of the loaded file. Please open an issue on GitHub for any issues related to this experimental feature.\n",
      "  model.load_state_dict(torch.load(path_to_model))\n"
     ]
    },
    {
     "name": "stdout",
     "output_type": "stream",
     "text": [
      "Processing video: C:\\Users\\KK\\Desktop\\dfd\\Celeb-DF\\Celeb-real\\id0_0002.mp4\n"
     ]
    },
    {
     "name": "stderr",
     "output_type": "stream",
     "text": [
      "C:\\Users\\KK\\AppData\\Roaming\\Python\\Python312\\site-packages\\torch\\nn\\modules\\module.py:1736: UserWarning: Implicit dimension choice for softmax has been deprecated. Change the call to include dim=X as an argument.\n",
      "  return self._call_impl(*args, **kwargs)\n",
      "Clipping input data to the valid range for imshow with RGB data ([0..1] for floats or [0..255] for integers). Got range [0.003137236461043358..1.2529411911964417].\n"
     ]
    },
    {
     "name": "stdout",
     "output_type": "stream",
     "text": [
      "confidence of prediction: 99.94862079620361\n"
     ]
    },
    {
     "data": {
      "image/png": "[encoded data removed]",
      "text/plain": [
       "<Figure size 640x480 with 1 Axes>"
      ]
     },
     "metadata": {},
     "output_type": "display_data"
    },
    {
     "name": "stdout",
     "output_type": "stream",
     "text": [
      "Original label: None, Predicted label: REAL\n"
     ]
    }
   ],
   "source": [
    "import os\n",
    "im_size = 112\n",
    "mean=[0.485, 0.456, 0.406]\n",
    "std=[0.229, 0.224, 0.225]\n",
    "\n",
    "train_transforms = transforms.Compose([\n",
    "                                        transforms.ToPILImage(),\n",
    "                                        transforms.Resize((im_size,im_size)),\n",
    "                                        transforms.ToTensor(),\n",
    "                                        transforms.Normalize(mean,std)])\n",
    "def get_videos_from_folder(folder_path, video_extensions=[\".mp4\", \".avi\", \".mkv\"]):\n",
    "    video_files = []\n",
    "    for root, dirs, files in os.walk(folder_path):\n",
    "        for file in files:\n",
    "            if any(file.endswith(ext) for ext in video_extensions):\n",
    "                video_files.append(os.path.join(root, file))\n",
    "    return video_files\n",
    "\n",
    "# Define the path to the folder containing the videos\n",
    "video_folder_path = \"./Test\"\n",
    "\n",
    "# Get all the videos from the folder\n",
    "path_to_videos = get_videos_from_folder(video_folder_path)\n",
    "\n",
    "# # Use the validation_dataset with the list of videos\n",
    "path_to_model = r\"C:\\Users\\KK\\Desktop\\dfd\\checkpoint2.pt\"\n",
    "model = Model(2).cuda()\n",
    "# model = torch.load(path_to_model)  # Load the checkpoint file\n",
    "\n",
    "model.load_state_dict(torch.load(path_to_model))\n",
    "model.eval()\n",
    "\n",
    "\n",
    "# Define path to CSV for labels\n",
    "csv_path = r'C:\\Users\\KK\\Desktop\\dfd\\test\\metadata.csv'\n",
    "\n",
    "# video_folder_path = r\"C:\\Users\\KK\\Desktop\\dfd\\Celeb-DF\\test\"\n",
    "# path_to_videos = get_videos_from_folder(video_folder_path)\n",
    "path_to_videos = [r\"C:\\Users\\KK\\Desktop\\dfd\\Celeb-DF\\Celeb-real\\id0_0002.mp4\"]\n",
    "\n",
    "video_dataset = validation_dataset(path_to_videos, csv_path=csv_path, sequence_length=20, transform=train_transforms)\n",
    "\n",
    "# Process all videos\n",
    "for i in range(len(path_to_videos)):\n",
    "    print(f\"Processing video: {path_to_videos[i]}\")\n",
    "    \n",
    "    # Get frames and original label\n",
    "    frames, original_label = video_dataset[i]\n",
    "    \n",
    "    # Make prediction\n",
    "    prediction = predict(model, frames, './')\n",
    "    \n",
    "    # Print original and predicted labels\n",
    "    print(f\"Original label: {original_label}, Predicted label: {'REAL' if prediction[0] == 1 else 'FAKE'}\")\n"
   ]
  },
  {
   "cell_type": "code",
   "execution_count": 9,
   "metadata": {},
   "outputs": [
    {
     "name": "stderr",
     "output_type": "stream",
     "text": [
      "usage: ipykernel_launcher.py [-h] --model_path MODEL_PATH --input INPUT [--output_dir OUTPUT_DIR] [--face_extraction]\n",
      "                             [--visualization] [--sequence_length SEQUENCE_LENGTH]\n",
      "ipykernel_launcher.py: error: the following arguments are required: --model_path, --input\n"
     ]
    },
    {
     "ename": "SystemExit",
     "evalue": "2",
     "output_type": "error",
     "traceback": [
      "An exception has occurred, use %tb to see the full traceback.\n",
      "\u001b[1;31mSystemExit\u001b[0m\u001b[1;31m:\u001b[0m 2\n"
     ]
    },
    {
     "name": "stderr",
     "output_type": "stream",
     "text": [
      "C:\\Users\\KK\\AppData\\Roaming\\Python\\Python312\\site-packages\\IPython\\core\\interactiveshell.py:3561: UserWarning: To exit: use 'exit', 'quit', or Ctrl-D.\n",
      "  warn(\"To exit: use 'exit', 'quit', or Ctrl-D.\", stacklevel=1)\n"
     ]
    }
   ],
   "source": []
  },
  {
   "cell_type": "code",
   "execution_count": null,
   "metadata": {},
   "outputs": [],
   "source": []
  }
 ],
 "metadata": {
  "accelerator": "GPU",
  "colab": {
   "collapsed_sections": [],
   "name": "Predict.ipynb",
   "provenance": []
  },
  "kernelspec": {
   "display_name": "Python 3 (ipykernel)",
   "language": "python",
   "name": "python3"
  },
  "language_info": {
   "codemirror_mode": {
    "name": "ipython",
    "version": 3
   },
   "file_extension": ".py",
   "mimetype": "text/x-python",
   "name": "python",
   "nbconvert_exporter": "python",
   "pygments_lexer": "ipython3",
   "version": "3.12.0"
  }
 },
 "nbformat": 4,
 "nbformat_minor": 4
}
